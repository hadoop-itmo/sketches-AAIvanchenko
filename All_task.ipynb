{
 "cells": [
  {
   "cell_type": "code",
   "execution_count": 1,
   "metadata": {},
   "outputs": [],
   "source": [
    "import mmh3\n",
    "import numpy as np\n",
    "import pandas as pd\n",
    "\n",
    "from utils import *\n",
    "from tqdm.auto import tqdm"
   ]
  },
  {
   "cell_type": "markdown",
   "metadata": {},
   "source": [
    "# Задание 1"
   ]
  },
  {
   "cell_type": "code",
   "execution_count": 2,
   "metadata": {},
   "outputs": [],
   "source": [
    "from bloom_filter import BloomFilter"
   ]
  },
  {
   "cell_type": "code",
   "execution_count": 3,
   "metadata": {},
   "outputs": [],
   "source": [
    "bloom_sizes = [8, 64, 1024, 64000, 16000000]\n",
    "set_sizes = [5, 50, 500, 5000, 5000000]"
   ]
  },
  {
   "cell_type": "markdown",
   "metadata": {},
   "source": [
    "Сгенерируем файлы с уникальными ключами для тестирования"
   ]
  },
  {
   "cell_type": "code",
   "execution_count": 3,
   "metadata": {},
   "outputs": [],
   "source": [
    "# for size in set_sizes:\n",
    "#     gen_uniq_seq(f'bloom_{size}_seq.txt', size)"
   ]
  },
  {
   "cell_type": "markdown",
   "metadata": {},
   "source": [
    "Протестируем реализованный фильтр"
   ]
  },
  {
   "cell_type": "code",
   "execution_count": 4,
   "metadata": {},
   "outputs": [
    {
     "data": {
      "application/vnd.jupyter.widget-view+json": {
       "model_id": "9bb61d8a72b5451ab86c2da859a313d7",
       "version_major": 2,
       "version_minor": 0
      },
      "text/plain": [
       "bloom 8 with 5 seq:   0%|          | 0/5 [00:00<?, ?it/s]"
      ]
     },
     "metadata": {},
     "output_type": "display_data"
    },
    {
     "data": {
      "application/vnd.jupyter.widget-view+json": {
       "model_id": "544d0711faed4019b29377b4b0663981",
       "version_major": 2,
       "version_minor": 0
      },
      "text/plain": [
       "bloom 8 with 50 seq:   0%|          | 0/50 [00:00<?, ?it/s]"
      ]
     },
     "metadata": {},
     "output_type": "display_data"
    },
    {
     "data": {
      "application/vnd.jupyter.widget-view+json": {
       "model_id": "90eee4fde0a14493bf397903258af864",
       "version_major": 2,
       "version_minor": 0
      },
      "text/plain": [
       "bloom 8 with 500 seq:   0%|          | 0/500 [00:00<?, ?it/s]"
      ]
     },
     "metadata": {},
     "output_type": "display_data"
    },
    {
     "data": {
      "application/vnd.jupyter.widget-view+json": {
       "model_id": "0a04492d1d464cfc8549209888787f82",
       "version_major": 2,
       "version_minor": 0
      },
      "text/plain": [
       "bloom 8 with 5000 seq:   0%|          | 0/5000 [00:00<?, ?it/s]"
      ]
     },
     "metadata": {},
     "output_type": "display_data"
    },
    {
     "data": {
      "application/vnd.jupyter.widget-view+json": {
       "model_id": "27041f3688a84ac2bbf3d76149c1d90c",
       "version_major": 2,
       "version_minor": 0
      },
      "text/plain": [
       "bloom 8 with 5000000 seq:   0%|          | 0/5000000 [00:00<?, ?it/s]"
      ]
     },
     "metadata": {},
     "output_type": "display_data"
    },
    {
     "data": {
      "application/vnd.jupyter.widget-view+json": {
       "model_id": "8aef36886cc34be389309695aab1d59c",
       "version_major": 2,
       "version_minor": 0
      },
      "text/plain": [
       "bloom 64 with 5 seq:   0%|          | 0/5 [00:00<?, ?it/s]"
      ]
     },
     "metadata": {},
     "output_type": "display_data"
    },
    {
     "data": {
      "application/vnd.jupyter.widget-view+json": {
       "model_id": "d889605e399b4cc186005c405a7b68a3",
       "version_major": 2,
       "version_minor": 0
      },
      "text/plain": [
       "bloom 64 with 50 seq:   0%|          | 0/50 [00:00<?, ?it/s]"
      ]
     },
     "metadata": {},
     "output_type": "display_data"
    },
    {
     "data": {
      "application/vnd.jupyter.widget-view+json": {
       "model_id": "3cfe435373d6421185ae34830edd400a",
       "version_major": 2,
       "version_minor": 0
      },
      "text/plain": [
       "bloom 64 with 500 seq:   0%|          | 0/500 [00:00<?, ?it/s]"
      ]
     },
     "metadata": {},
     "output_type": "display_data"
    },
    {
     "data": {
      "application/vnd.jupyter.widget-view+json": {
       "model_id": "f7c502099e32486eb3e40a836dacada8",
       "version_major": 2,
       "version_minor": 0
      },
      "text/plain": [
       "bloom 64 with 5000 seq:   0%|          | 0/5000 [00:00<?, ?it/s]"
      ]
     },
     "metadata": {},
     "output_type": "display_data"
    },
    {
     "data": {
      "application/vnd.jupyter.widget-view+json": {
       "model_id": "98b16b9dd7ed4ee99b673ad1f607ab61",
       "version_major": 2,
       "version_minor": 0
      },
      "text/plain": [
       "bloom 64 with 5000000 seq:   0%|          | 0/5000000 [00:00<?, ?it/s]"
      ]
     },
     "metadata": {},
     "output_type": "display_data"
    },
    {
     "data": {
      "application/vnd.jupyter.widget-view+json": {
       "model_id": "24405690474f41e1a88f9ed224f170bd",
       "version_major": 2,
       "version_minor": 0
      },
      "text/plain": [
       "bloom 1024 with 5 seq:   0%|          | 0/5 [00:00<?, ?it/s]"
      ]
     },
     "metadata": {},
     "output_type": "display_data"
    },
    {
     "data": {
      "application/vnd.jupyter.widget-view+json": {
       "model_id": "862d81782f6a44d1875f623541c52bb7",
       "version_major": 2,
       "version_minor": 0
      },
      "text/plain": [
       "bloom 1024 with 50 seq:   0%|          | 0/50 [00:00<?, ?it/s]"
      ]
     },
     "metadata": {},
     "output_type": "display_data"
    },
    {
     "data": {
      "application/vnd.jupyter.widget-view+json": {
       "model_id": "06633e4becdb49e2b231a1c0cc789408",
       "version_major": 2,
       "version_minor": 0
      },
      "text/plain": [
       "bloom 1024 with 500 seq:   0%|          | 0/500 [00:00<?, ?it/s]"
      ]
     },
     "metadata": {},
     "output_type": "display_data"
    },
    {
     "data": {
      "application/vnd.jupyter.widget-view+json": {
       "model_id": "9e5aba057c7046d0857cf13666dec1f1",
       "version_major": 2,
       "version_minor": 0
      },
      "text/plain": [
       "bloom 1024 with 5000 seq:   0%|          | 0/5000 [00:00<?, ?it/s]"
      ]
     },
     "metadata": {},
     "output_type": "display_data"
    },
    {
     "data": {
      "application/vnd.jupyter.widget-view+json": {
       "model_id": "f2a19b9571eb4dd0bd1f6ce841947ca7",
       "version_major": 2,
       "version_minor": 0
      },
      "text/plain": [
       "bloom 1024 with 5000000 seq:   0%|          | 0/5000000 [00:00<?, ?it/s]"
      ]
     },
     "metadata": {},
     "output_type": "display_data"
    },
    {
     "data": {
      "application/vnd.jupyter.widget-view+json": {
       "model_id": "04c3c9013b30471b9af50f1a245b9fc1",
       "version_major": 2,
       "version_minor": 0
      },
      "text/plain": [
       "bloom 64000 with 5 seq:   0%|          | 0/5 [00:00<?, ?it/s]"
      ]
     },
     "metadata": {},
     "output_type": "display_data"
    },
    {
     "data": {
      "application/vnd.jupyter.widget-view+json": {
       "model_id": "2ce50e85437649d3a839f85a494cdb9d",
       "version_major": 2,
       "version_minor": 0
      },
      "text/plain": [
       "bloom 64000 with 50 seq:   0%|          | 0/50 [00:00<?, ?it/s]"
      ]
     },
     "metadata": {},
     "output_type": "display_data"
    },
    {
     "data": {
      "application/vnd.jupyter.widget-view+json": {
       "model_id": "f83e96e717d848faac1045f41482f6d9",
       "version_major": 2,
       "version_minor": 0
      },
      "text/plain": [
       "bloom 64000 with 500 seq:   0%|          | 0/500 [00:00<?, ?it/s]"
      ]
     },
     "metadata": {},
     "output_type": "display_data"
    },
    {
     "data": {
      "application/vnd.jupyter.widget-view+json": {
       "model_id": "65ae74d8ebbd4236921d8789121932b3",
       "version_major": 2,
       "version_minor": 0
      },
      "text/plain": [
       "bloom 64000 with 5000 seq:   0%|          | 0/5000 [00:00<?, ?it/s]"
      ]
     },
     "metadata": {},
     "output_type": "display_data"
    },
    {
     "data": {
      "application/vnd.jupyter.widget-view+json": {
       "model_id": "c964ef2959bb4c96987ee23135d8801d",
       "version_major": 2,
       "version_minor": 0
      },
      "text/plain": [
       "bloom 64000 with 5000000 seq:   0%|          | 0/5000000 [00:00<?, ?it/s]"
      ]
     },
     "metadata": {},
     "output_type": "display_data"
    },
    {
     "data": {
      "application/vnd.jupyter.widget-view+json": {
       "model_id": "e7443aac7baa430a8cfcc7ff628b5041",
       "version_major": 2,
       "version_minor": 0
      },
      "text/plain": [
       "bloom 16000000 with 5 seq:   0%|          | 0/5 [00:00<?, ?it/s]"
      ]
     },
     "metadata": {},
     "output_type": "display_data"
    },
    {
     "data": {
      "application/vnd.jupyter.widget-view+json": {
       "model_id": "2174edefdd484819804dc3322780bbb7",
       "version_major": 2,
       "version_minor": 0
      },
      "text/plain": [
       "bloom 16000000 with 50 seq:   0%|          | 0/50 [00:00<?, ?it/s]"
      ]
     },
     "metadata": {},
     "output_type": "display_data"
    },
    {
     "data": {
      "application/vnd.jupyter.widget-view+json": {
       "model_id": "55ba6cec1fec4de28f2e85c16f046b53",
       "version_major": 2,
       "version_minor": 0
      },
      "text/plain": [
       "bloom 16000000 with 500 seq:   0%|          | 0/500 [00:00<?, ?it/s]"
      ]
     },
     "metadata": {},
     "output_type": "display_data"
    },
    {
     "data": {
      "application/vnd.jupyter.widget-view+json": {
       "model_id": "f1661dd9a60b488c888bdc9f5ff2cb64",
       "version_major": 2,
       "version_minor": 0
      },
      "text/plain": [
       "bloom 16000000 with 5000 seq:   0%|          | 0/5000 [00:00<?, ?it/s]"
      ]
     },
     "metadata": {},
     "output_type": "display_data"
    },
    {
     "data": {
      "application/vnd.jupyter.widget-view+json": {
       "model_id": "5603139074144b2a87db967c313b4fef",
       "version_major": 2,
       "version_minor": 0
      },
      "text/plain": [
       "bloom 16000000 with 5000000 seq:   0%|          | 0/5000000 [00:00<?, ?it/s]"
      ]
     },
     "metadata": {},
     "output_type": "display_data"
    }
   ],
   "source": [
    "matrix_res = np.zeros(\n",
    "    (len(bloom_sizes) * len(set_sizes), 4),\n",
    "    dtype=int\n",
    ")\n",
    "\n",
    "curent_row_idx = 0 \n",
    "for b_size in bloom_sizes:\n",
    "    for set_size in set_sizes:\n",
    "        matrix_res[curent_row_idx, 0] = b_size\n",
    "        matrix_res[curent_row_idx, 1] = set_size\n",
    "\n",
    "        b_filter = BloomFilter(b_size)\n",
    "\n",
    "        with open(f'bloom_{set_size}_seq.txt', 'r') as f:\n",
    "            s_iter = tqdm(\n",
    "                (line for line in f),\n",
    "                total=set_size,\n",
    "                desc=f'bloom {b_size} with {set_size} seq'\n",
    "            )\n",
    "            for s in s_iter:            \n",
    "                if b_filter.get(s):\n",
    "                    matrix_res[curent_row_idx, 2] += 1\n",
    "\n",
    "                b_filter.put(s)\n",
    "        \n",
    "        matrix_res[curent_row_idx, 3] += b_filter.size()\n",
    "\n",
    "        curent_row_idx += 1"
   ]
  },
  {
   "cell_type": "code",
   "execution_count": 5,
   "metadata": {},
   "outputs": [],
   "source": [
    "table_res = pd.DataFrame(matrix_res, columns=['bf_size', 'set_size', 'fp_count', 'ones_count'])\n",
    "table_res.to_csv('result_task_1.csv', index=False)"
   ]
  },
  {
   "cell_type": "code",
   "execution_count": 6,
   "metadata": {},
   "outputs": [
    {
     "data": {
      "text/html": [
       "<div>\n",
       "<style scoped>\n",
       "    .dataframe tbody tr th:only-of-type {\n",
       "        vertical-align: middle;\n",
       "    }\n",
       "\n",
       "    .dataframe tbody tr th {\n",
       "        vertical-align: top;\n",
       "    }\n",
       "\n",
       "    .dataframe thead th {\n",
       "        text-align: right;\n",
       "    }\n",
       "</style>\n",
       "<table border=\"1\" class=\"dataframe\">\n",
       "  <thead>\n",
       "    <tr style=\"text-align: right;\">\n",
       "      <th></th>\n",
       "      <th>bf_size</th>\n",
       "      <th>set_size</th>\n",
       "      <th>fp_count</th>\n",
       "      <th>ones_count</th>\n",
       "    </tr>\n",
       "  </thead>\n",
       "  <tbody>\n",
       "    <tr>\n",
       "      <th>0</th>\n",
       "      <td>8</td>\n",
       "      <td>5</td>\n",
       "      <td>1</td>\n",
       "      <td>4</td>\n",
       "    </tr>\n",
       "    <tr>\n",
       "      <th>1</th>\n",
       "      <td>8</td>\n",
       "      <td>50</td>\n",
       "      <td>42</td>\n",
       "      <td>8</td>\n",
       "    </tr>\n",
       "    <tr>\n",
       "      <th>2</th>\n",
       "      <td>8</td>\n",
       "      <td>500</td>\n",
       "      <td>492</td>\n",
       "      <td>8</td>\n",
       "    </tr>\n",
       "    <tr>\n",
       "      <th>3</th>\n",
       "      <td>8</td>\n",
       "      <td>5000</td>\n",
       "      <td>4992</td>\n",
       "      <td>8</td>\n",
       "    </tr>\n",
       "    <tr>\n",
       "      <th>4</th>\n",
       "      <td>8</td>\n",
       "      <td>5000000</td>\n",
       "      <td>4999992</td>\n",
       "      <td>8</td>\n",
       "    </tr>\n",
       "    <tr>\n",
       "      <th>5</th>\n",
       "      <td>64</td>\n",
       "      <td>5</td>\n",
       "      <td>0</td>\n",
       "      <td>5</td>\n",
       "    </tr>\n",
       "    <tr>\n",
       "      <th>6</th>\n",
       "      <td>64</td>\n",
       "      <td>50</td>\n",
       "      <td>18</td>\n",
       "      <td>32</td>\n",
       "    </tr>\n",
       "    <tr>\n",
       "      <th>7</th>\n",
       "      <td>64</td>\n",
       "      <td>500</td>\n",
       "      <td>436</td>\n",
       "      <td>64</td>\n",
       "    </tr>\n",
       "    <tr>\n",
       "      <th>8</th>\n",
       "      <td>64</td>\n",
       "      <td>5000</td>\n",
       "      <td>4936</td>\n",
       "      <td>64</td>\n",
       "    </tr>\n",
       "    <tr>\n",
       "      <th>9</th>\n",
       "      <td>64</td>\n",
       "      <td>5000000</td>\n",
       "      <td>4999936</td>\n",
       "      <td>64</td>\n",
       "    </tr>\n",
       "    <tr>\n",
       "      <th>10</th>\n",
       "      <td>1024</td>\n",
       "      <td>5</td>\n",
       "      <td>0</td>\n",
       "      <td>5</td>\n",
       "    </tr>\n",
       "    <tr>\n",
       "      <th>11</th>\n",
       "      <td>1024</td>\n",
       "      <td>50</td>\n",
       "      <td>3</td>\n",
       "      <td>47</td>\n",
       "    </tr>\n",
       "    <tr>\n",
       "      <th>12</th>\n",
       "      <td>1024</td>\n",
       "      <td>500</td>\n",
       "      <td>105</td>\n",
       "      <td>395</td>\n",
       "    </tr>\n",
       "    <tr>\n",
       "      <th>13</th>\n",
       "      <td>1024</td>\n",
       "      <td>5000</td>\n",
       "      <td>3985</td>\n",
       "      <td>1015</td>\n",
       "    </tr>\n",
       "    <tr>\n",
       "      <th>14</th>\n",
       "      <td>1024</td>\n",
       "      <td>5000000</td>\n",
       "      <td>4998976</td>\n",
       "      <td>1024</td>\n",
       "    </tr>\n",
       "    <tr>\n",
       "      <th>15</th>\n",
       "      <td>64000</td>\n",
       "      <td>5</td>\n",
       "      <td>0</td>\n",
       "      <td>5</td>\n",
       "    </tr>\n",
       "    <tr>\n",
       "      <th>16</th>\n",
       "      <td>64000</td>\n",
       "      <td>50</td>\n",
       "      <td>0</td>\n",
       "      <td>50</td>\n",
       "    </tr>\n",
       "    <tr>\n",
       "      <th>17</th>\n",
       "      <td>64000</td>\n",
       "      <td>500</td>\n",
       "      <td>2</td>\n",
       "      <td>498</td>\n",
       "    </tr>\n",
       "    <tr>\n",
       "      <th>18</th>\n",
       "      <td>64000</td>\n",
       "      <td>5000</td>\n",
       "      <td>171</td>\n",
       "      <td>4829</td>\n",
       "    </tr>\n",
       "    <tr>\n",
       "      <th>19</th>\n",
       "      <td>64000</td>\n",
       "      <td>5000000</td>\n",
       "      <td>4936000</td>\n",
       "      <td>64000</td>\n",
       "    </tr>\n",
       "    <tr>\n",
       "      <th>20</th>\n",
       "      <td>16000000</td>\n",
       "      <td>5</td>\n",
       "      <td>0</td>\n",
       "      <td>5</td>\n",
       "    </tr>\n",
       "    <tr>\n",
       "      <th>21</th>\n",
       "      <td>16000000</td>\n",
       "      <td>50</td>\n",
       "      <td>0</td>\n",
       "      <td>50</td>\n",
       "    </tr>\n",
       "    <tr>\n",
       "      <th>22</th>\n",
       "      <td>16000000</td>\n",
       "      <td>500</td>\n",
       "      <td>0</td>\n",
       "      <td>500</td>\n",
       "    </tr>\n",
       "    <tr>\n",
       "      <th>23</th>\n",
       "      <td>16000000</td>\n",
       "      <td>5000</td>\n",
       "      <td>0</td>\n",
       "      <td>5000</td>\n",
       "    </tr>\n",
       "    <tr>\n",
       "      <th>24</th>\n",
       "      <td>16000000</td>\n",
       "      <td>5000000</td>\n",
       "      <td>705054</td>\n",
       "      <td>4294946</td>\n",
       "    </tr>\n",
       "  </tbody>\n",
       "</table>\n",
       "</div>"
      ],
      "text/plain": [
       "     bf_size  set_size  fp_count  ones_count\n",
       "0          8         5         1           4\n",
       "1          8        50        42           8\n",
       "2          8       500       492           8\n",
       "3          8      5000      4992           8\n",
       "4          8   5000000   4999992           8\n",
       "5         64         5         0           5\n",
       "6         64        50        18          32\n",
       "7         64       500       436          64\n",
       "8         64      5000      4936          64\n",
       "9         64   5000000   4999936          64\n",
       "10      1024         5         0           5\n",
       "11      1024        50         3          47\n",
       "12      1024       500       105         395\n",
       "13      1024      5000      3985        1015\n",
       "14      1024   5000000   4998976        1024\n",
       "15     64000         5         0           5\n",
       "16     64000        50         0          50\n",
       "17     64000       500         2         498\n",
       "18     64000      5000       171        4829\n",
       "19     64000   5000000   4936000       64000\n",
       "20  16000000         5         0           5\n",
       "21  16000000        50         0          50\n",
       "22  16000000       500         0         500\n",
       "23  16000000      5000         0        5000\n",
       "24  16000000   5000000    705054     4294946"
      ]
     },
     "execution_count": 6,
     "metadata": {},
     "output_type": "execute_result"
    }
   ],
   "source": [
    "table_res"
   ]
  },
  {
   "cell_type": "markdown",
   "metadata": {},
   "source": [
    "**Вывод:** \n",
    "1. При увелечение фильтра уменьшается число ложноположительного ответа (хеш уже существует, но такую строку ещё не добавляли), важно выбирать оптимальное значение фильтра относительно размера текста, т.е. чем меньше выборка с текстом, тем меньше можно задавать фильтр"
   ]
  },
  {
   "cell_type": "markdown",
   "metadata": {},
   "source": [
    "# Задание 2"
   ]
  },
  {
   "cell_type": "code",
   "execution_count": 7,
   "metadata": {},
   "outputs": [],
   "source": [
    "from bloom_filter_n_hash import BloomFilterNHash"
   ]
  },
  {
   "cell_type": "code",
   "execution_count": 8,
   "metadata": {},
   "outputs": [],
   "source": [
    "count_hashes = [1, 2, 3, 4]"
   ]
  },
  {
   "cell_type": "markdown",
   "metadata": {},
   "source": [
    "Протестируем реализованный фильтр"
   ]
  },
  {
   "cell_type": "code",
   "execution_count": 9,
   "metadata": {},
   "outputs": [
    {
     "data": {
      "application/vnd.jupyter.widget-view+json": {
       "model_id": "7b64accd5153482da4d675cf2b8e42c1",
       "version_major": 2,
       "version_minor": 0
      },
      "text/plain": [
       "bloom 8 with 5 seq and with 1 hashes:   0%|          | 0/5 [00:00<?, ?it/s]"
      ]
     },
     "metadata": {},
     "output_type": "display_data"
    },
    {
     "data": {
      "application/vnd.jupyter.widget-view+json": {
       "model_id": "72efaa2998a54811907206fefcc1b4d3",
       "version_major": 2,
       "version_minor": 0
      },
      "text/plain": [
       "bloom 8 with 5 seq and with 2 hashes:   0%|          | 0/5 [00:00<?, ?it/s]"
      ]
     },
     "metadata": {},
     "output_type": "display_data"
    },
    {
     "data": {
      "application/vnd.jupyter.widget-view+json": {
       "model_id": "9fda1389ebc94d0d9309b11ad67b3d55",
       "version_major": 2,
       "version_minor": 0
      },
      "text/plain": [
       "bloom 8 with 5 seq and with 3 hashes:   0%|          | 0/5 [00:00<?, ?it/s]"
      ]
     },
     "metadata": {},
     "output_type": "display_data"
    },
    {
     "data": {
      "application/vnd.jupyter.widget-view+json": {
       "model_id": "7840e889ad504d199b3a3cbb2cf90f3c",
       "version_major": 2,
       "version_minor": 0
      },
      "text/plain": [
       "bloom 8 with 5 seq and with 4 hashes:   0%|          | 0/5 [00:00<?, ?it/s]"
      ]
     },
     "metadata": {},
     "output_type": "display_data"
    },
    {
     "data": {
      "application/vnd.jupyter.widget-view+json": {
       "model_id": "5b4e4f21b910484487f5261a3bf89179",
       "version_major": 2,
       "version_minor": 0
      },
      "text/plain": [
       "bloom 8 with 50 seq and with 1 hashes:   0%|          | 0/50 [00:00<?, ?it/s]"
      ]
     },
     "metadata": {},
     "output_type": "display_data"
    },
    {
     "data": {
      "application/vnd.jupyter.widget-view+json": {
       "model_id": "3ae27c4e55f24570aa917dab9eb5e370",
       "version_major": 2,
       "version_minor": 0
      },
      "text/plain": [
       "bloom 8 with 50 seq and with 2 hashes:   0%|          | 0/50 [00:00<?, ?it/s]"
      ]
     },
     "metadata": {},
     "output_type": "display_data"
    },
    {
     "data": {
      "application/vnd.jupyter.widget-view+json": {
       "model_id": "226e1d702d7b4d02a9aea9cb6107747b",
       "version_major": 2,
       "version_minor": 0
      },
      "text/plain": [
       "bloom 8 with 50 seq and with 3 hashes:   0%|          | 0/50 [00:00<?, ?it/s]"
      ]
     },
     "metadata": {},
     "output_type": "display_data"
    },
    {
     "data": {
      "application/vnd.jupyter.widget-view+json": {
       "model_id": "e916ad755920425aa8b623d50261ff4f",
       "version_major": 2,
       "version_minor": 0
      },
      "text/plain": [
       "bloom 8 with 50 seq and with 4 hashes:   0%|          | 0/50 [00:00<?, ?it/s]"
      ]
     },
     "metadata": {},
     "output_type": "display_data"
    },
    {
     "data": {
      "application/vnd.jupyter.widget-view+json": {
       "model_id": "faff79377a644670ba44bcc20de72af7",
       "version_major": 2,
       "version_minor": 0
      },
      "text/plain": [
       "bloom 8 with 500 seq and with 1 hashes:   0%|          | 0/500 [00:00<?, ?it/s]"
      ]
     },
     "metadata": {},
     "output_type": "display_data"
    },
    {
     "data": {
      "application/vnd.jupyter.widget-view+json": {
       "model_id": "263a676e7fe64ef989d5f5bf3eed76fc",
       "version_major": 2,
       "version_minor": 0
      },
      "text/plain": [
       "bloom 8 with 500 seq and with 2 hashes:   0%|          | 0/500 [00:00<?, ?it/s]"
      ]
     },
     "metadata": {},
     "output_type": "display_data"
    },
    {
     "data": {
      "application/vnd.jupyter.widget-view+json": {
       "model_id": "29260ab76cdf4b02bde86104b4490c5f",
       "version_major": 2,
       "version_minor": 0
      },
      "text/plain": [
       "bloom 8 with 500 seq and with 3 hashes:   0%|          | 0/500 [00:00<?, ?it/s]"
      ]
     },
     "metadata": {},
     "output_type": "display_data"
    },
    {
     "data": {
      "application/vnd.jupyter.widget-view+json": {
       "model_id": "c7087c5461c54295a5f369a72b513016",
       "version_major": 2,
       "version_minor": 0
      },
      "text/plain": [
       "bloom 8 with 500 seq and with 4 hashes:   0%|          | 0/500 [00:00<?, ?it/s]"
      ]
     },
     "metadata": {},
     "output_type": "display_data"
    },
    {
     "data": {
      "application/vnd.jupyter.widget-view+json": {
       "model_id": "a7797087106a4e8daf00a74b49039057",
       "version_major": 2,
       "version_minor": 0
      },
      "text/plain": [
       "bloom 8 with 5000 seq and with 1 hashes:   0%|          | 0/5000 [00:00<?, ?it/s]"
      ]
     },
     "metadata": {},
     "output_type": "display_data"
    },
    {
     "data": {
      "application/vnd.jupyter.widget-view+json": {
       "model_id": "2cab507b41134883b53eb2e7afa56af7",
       "version_major": 2,
       "version_minor": 0
      },
      "text/plain": [
       "bloom 8 with 5000 seq and with 2 hashes:   0%|          | 0/5000 [00:00<?, ?it/s]"
      ]
     },
     "metadata": {},
     "output_type": "display_data"
    },
    {
     "data": {
      "application/vnd.jupyter.widget-view+json": {
       "model_id": "441c9cc691a04441861ce71649a64a44",
       "version_major": 2,
       "version_minor": 0
      },
      "text/plain": [
       "bloom 8 with 5000 seq and with 3 hashes:   0%|          | 0/5000 [00:00<?, ?it/s]"
      ]
     },
     "metadata": {},
     "output_type": "display_data"
    },
    {
     "data": {
      "application/vnd.jupyter.widget-view+json": {
       "model_id": "14978a05a40e490c8a4857547a703a13",
       "version_major": 2,
       "version_minor": 0
      },
      "text/plain": [
       "bloom 8 with 5000 seq and with 4 hashes:   0%|          | 0/5000 [00:00<?, ?it/s]"
      ]
     },
     "metadata": {},
     "output_type": "display_data"
    },
    {
     "data": {
      "application/vnd.jupyter.widget-view+json": {
       "model_id": "8353bb4e16c448a6984d12f3c56314a3",
       "version_major": 2,
       "version_minor": 0
      },
      "text/plain": [
       "bloom 8 with 5000000 seq and with 1 hashes:   0%|          | 0/5000000 [00:00<?, ?it/s]"
      ]
     },
     "metadata": {},
     "output_type": "display_data"
    },
    {
     "data": {
      "application/vnd.jupyter.widget-view+json": {
       "model_id": "19b2ff8300ec4c55bae969c5490ca492",
       "version_major": 2,
       "version_minor": 0
      },
      "text/plain": [
       "bloom 8 with 5000000 seq and with 2 hashes:   0%|          | 0/5000000 [00:00<?, ?it/s]"
      ]
     },
     "metadata": {},
     "output_type": "display_data"
    },
    {
     "data": {
      "application/vnd.jupyter.widget-view+json": {
       "model_id": "d85456be69a842f0a126f8e166419f22",
       "version_major": 2,
       "version_minor": 0
      },
      "text/plain": [
       "bloom 8 with 5000000 seq and with 3 hashes:   0%|          | 0/5000000 [00:00<?, ?it/s]"
      ]
     },
     "metadata": {},
     "output_type": "display_data"
    },
    {
     "data": {
      "application/vnd.jupyter.widget-view+json": {
       "model_id": "040bf8835d6343c287787e00ff26177c",
       "version_major": 2,
       "version_minor": 0
      },
      "text/plain": [
       "bloom 8 with 5000000 seq and with 4 hashes:   0%|          | 0/5000000 [00:00<?, ?it/s]"
      ]
     },
     "metadata": {},
     "output_type": "display_data"
    },
    {
     "data": {
      "application/vnd.jupyter.widget-view+json": {
       "model_id": "4f64a986174b417ba0168cdf362da081",
       "version_major": 2,
       "version_minor": 0
      },
      "text/plain": [
       "bloom 64 with 5 seq and with 1 hashes:   0%|          | 0/5 [00:00<?, ?it/s]"
      ]
     },
     "metadata": {},
     "output_type": "display_data"
    },
    {
     "data": {
      "application/vnd.jupyter.widget-view+json": {
       "model_id": "36a887878c8a4cf590e35436fec60515",
       "version_major": 2,
       "version_minor": 0
      },
      "text/plain": [
       "bloom 64 with 5 seq and with 2 hashes:   0%|          | 0/5 [00:00<?, ?it/s]"
      ]
     },
     "metadata": {},
     "output_type": "display_data"
    },
    {
     "data": {
      "application/vnd.jupyter.widget-view+json": {
       "model_id": "8bc815870a1e4fe2bd916bd957dedb91",
       "version_major": 2,
       "version_minor": 0
      },
      "text/plain": [
       "bloom 64 with 5 seq and with 3 hashes:   0%|          | 0/5 [00:00<?, ?it/s]"
      ]
     },
     "metadata": {},
     "output_type": "display_data"
    },
    {
     "data": {
      "application/vnd.jupyter.widget-view+json": {
       "model_id": "3c9e80ecfbde4617b4f03b74a21e9172",
       "version_major": 2,
       "version_minor": 0
      },
      "text/plain": [
       "bloom 64 with 5 seq and with 4 hashes:   0%|          | 0/5 [00:00<?, ?it/s]"
      ]
     },
     "metadata": {},
     "output_type": "display_data"
    },
    {
     "data": {
      "application/vnd.jupyter.widget-view+json": {
       "model_id": "a6710b6c73f447f69d9317b6bb23414f",
       "version_major": 2,
       "version_minor": 0
      },
      "text/plain": [
       "bloom 64 with 50 seq and with 1 hashes:   0%|          | 0/50 [00:00<?, ?it/s]"
      ]
     },
     "metadata": {},
     "output_type": "display_data"
    },
    {
     "data": {
      "application/vnd.jupyter.widget-view+json": {
       "model_id": "ee45b7b315ea4a6f8be47c9b262e655e",
       "version_major": 2,
       "version_minor": 0
      },
      "text/plain": [
       "bloom 64 with 50 seq and with 2 hashes:   0%|          | 0/50 [00:00<?, ?it/s]"
      ]
     },
     "metadata": {},
     "output_type": "display_data"
    },
    {
     "data": {
      "application/vnd.jupyter.widget-view+json": {
       "model_id": "6d18effc69414f7ba7c46fce8610a767",
       "version_major": 2,
       "version_minor": 0
      },
      "text/plain": [
       "bloom 64 with 50 seq and with 3 hashes:   0%|          | 0/50 [00:00<?, ?it/s]"
      ]
     },
     "metadata": {},
     "output_type": "display_data"
    },
    {
     "data": {
      "application/vnd.jupyter.widget-view+json": {
       "model_id": "8895f67b8bc346958b4abaceccee58e5",
       "version_major": 2,
       "version_minor": 0
      },
      "text/plain": [
       "bloom 64 with 50 seq and with 4 hashes:   0%|          | 0/50 [00:00<?, ?it/s]"
      ]
     },
     "metadata": {},
     "output_type": "display_data"
    },
    {
     "data": {
      "application/vnd.jupyter.widget-view+json": {
       "model_id": "5f19a0e4a4b74b2da611a6bde3328fb8",
       "version_major": 2,
       "version_minor": 0
      },
      "text/plain": [
       "bloom 64 with 500 seq and with 1 hashes:   0%|          | 0/500 [00:00<?, ?it/s]"
      ]
     },
     "metadata": {},
     "output_type": "display_data"
    },
    {
     "data": {
      "application/vnd.jupyter.widget-view+json": {
       "model_id": "d9c2d89e73054e05b9942a896260d2f7",
       "version_major": 2,
       "version_minor": 0
      },
      "text/plain": [
       "bloom 64 with 500 seq and with 2 hashes:   0%|          | 0/500 [00:00<?, ?it/s]"
      ]
     },
     "metadata": {},
     "output_type": "display_data"
    },
    {
     "data": {
      "application/vnd.jupyter.widget-view+json": {
       "model_id": "1aeef8fe00304187b8cd8536a73bc0f7",
       "version_major": 2,
       "version_minor": 0
      },
      "text/plain": [
       "bloom 64 with 500 seq and with 3 hashes:   0%|          | 0/500 [00:00<?, ?it/s]"
      ]
     },
     "metadata": {},
     "output_type": "display_data"
    },
    {
     "data": {
      "application/vnd.jupyter.widget-view+json": {
       "model_id": "a46e18f3193c44deb33c629ec664b645",
       "version_major": 2,
       "version_minor": 0
      },
      "text/plain": [
       "bloom 64 with 500 seq and with 4 hashes:   0%|          | 0/500 [00:00<?, ?it/s]"
      ]
     },
     "metadata": {},
     "output_type": "display_data"
    },
    {
     "data": {
      "application/vnd.jupyter.widget-view+json": {
       "model_id": "91611413331f464f9bfa3f03c52d5798",
       "version_major": 2,
       "version_minor": 0
      },
      "text/plain": [
       "bloom 64 with 5000 seq and with 1 hashes:   0%|          | 0/5000 [00:00<?, ?it/s]"
      ]
     },
     "metadata": {},
     "output_type": "display_data"
    },
    {
     "data": {
      "application/vnd.jupyter.widget-view+json": {
       "model_id": "c73653f2e2af4a35972f4e3f169437e6",
       "version_major": 2,
       "version_minor": 0
      },
      "text/plain": [
       "bloom 64 with 5000 seq and with 2 hashes:   0%|          | 0/5000 [00:00<?, ?it/s]"
      ]
     },
     "metadata": {},
     "output_type": "display_data"
    },
    {
     "data": {
      "application/vnd.jupyter.widget-view+json": {
       "model_id": "111de5552b1947899e3b7c49129d29a1",
       "version_major": 2,
       "version_minor": 0
      },
      "text/plain": [
       "bloom 64 with 5000 seq and with 3 hashes:   0%|          | 0/5000 [00:00<?, ?it/s]"
      ]
     },
     "metadata": {},
     "output_type": "display_data"
    },
    {
     "data": {
      "application/vnd.jupyter.widget-view+json": {
       "model_id": "7a51510c15b94592bf3e0439716917e4",
       "version_major": 2,
       "version_minor": 0
      },
      "text/plain": [
       "bloom 64 with 5000 seq and with 4 hashes:   0%|          | 0/5000 [00:00<?, ?it/s]"
      ]
     },
     "metadata": {},
     "output_type": "display_data"
    },
    {
     "data": {
      "application/vnd.jupyter.widget-view+json": {
       "model_id": "7c67c5269a534b5498bf9c8046c79352",
       "version_major": 2,
       "version_minor": 0
      },
      "text/plain": [
       "bloom 64 with 5000000 seq and with 1 hashes:   0%|          | 0/5000000 [00:00<?, ?it/s]"
      ]
     },
     "metadata": {},
     "output_type": "display_data"
    },
    {
     "data": {
      "application/vnd.jupyter.widget-view+json": {
       "model_id": "0bf5d5128afe42b893f3e16566d4300c",
       "version_major": 2,
       "version_minor": 0
      },
      "text/plain": [
       "bloom 64 with 5000000 seq and with 2 hashes:   0%|          | 0/5000000 [00:00<?, ?it/s]"
      ]
     },
     "metadata": {},
     "output_type": "display_data"
    },
    {
     "data": {
      "application/vnd.jupyter.widget-view+json": {
       "model_id": "c3f42069aad84e7693daeb389d7e34a1",
       "version_major": 2,
       "version_minor": 0
      },
      "text/plain": [
       "bloom 64 with 5000000 seq and with 3 hashes:   0%|          | 0/5000000 [00:00<?, ?it/s]"
      ]
     },
     "metadata": {},
     "output_type": "display_data"
    },
    {
     "data": {
      "application/vnd.jupyter.widget-view+json": {
       "model_id": "39fa7e9ed2584ac2887b9a141bde31cd",
       "version_major": 2,
       "version_minor": 0
      },
      "text/plain": [
       "bloom 64 with 5000000 seq and with 4 hashes:   0%|          | 0/5000000 [00:00<?, ?it/s]"
      ]
     },
     "metadata": {},
     "output_type": "display_data"
    },
    {
     "data": {
      "application/vnd.jupyter.widget-view+json": {
       "model_id": "2e295cbdc29b44c68c9503ae73ef8ef9",
       "version_major": 2,
       "version_minor": 0
      },
      "text/plain": [
       "bloom 1024 with 5 seq and with 1 hashes:   0%|          | 0/5 [00:00<?, ?it/s]"
      ]
     },
     "metadata": {},
     "output_type": "display_data"
    },
    {
     "data": {
      "application/vnd.jupyter.widget-view+json": {
       "model_id": "a8eac6139116400f9b3b38c5a18bb757",
       "version_major": 2,
       "version_minor": 0
      },
      "text/plain": [
       "bloom 1024 with 5 seq and with 2 hashes:   0%|          | 0/5 [00:00<?, ?it/s]"
      ]
     },
     "metadata": {},
     "output_type": "display_data"
    },
    {
     "data": {
      "application/vnd.jupyter.widget-view+json": {
       "model_id": "3700e3564ce64bbe88f840d083f46c5d",
       "version_major": 2,
       "version_minor": 0
      },
      "text/plain": [
       "bloom 1024 with 5 seq and with 3 hashes:   0%|          | 0/5 [00:00<?, ?it/s]"
      ]
     },
     "metadata": {},
     "output_type": "display_data"
    },
    {
     "data": {
      "application/vnd.jupyter.widget-view+json": {
       "model_id": "998aa4b1638344e48428a3c232aeccc2",
       "version_major": 2,
       "version_minor": 0
      },
      "text/plain": [
       "bloom 1024 with 5 seq and with 4 hashes:   0%|          | 0/5 [00:00<?, ?it/s]"
      ]
     },
     "metadata": {},
     "output_type": "display_data"
    },
    {
     "data": {
      "application/vnd.jupyter.widget-view+json": {
       "model_id": "3ffb2861664243089d23c8a30fcbd2b7",
       "version_major": 2,
       "version_minor": 0
      },
      "text/plain": [
       "bloom 1024 with 50 seq and with 1 hashes:   0%|          | 0/50 [00:00<?, ?it/s]"
      ]
     },
     "metadata": {},
     "output_type": "display_data"
    },
    {
     "data": {
      "application/vnd.jupyter.widget-view+json": {
       "model_id": "e008f2135dcd43c691f8b44aff609e5b",
       "version_major": 2,
       "version_minor": 0
      },
      "text/plain": [
       "bloom 1024 with 50 seq and with 2 hashes:   0%|          | 0/50 [00:00<?, ?it/s]"
      ]
     },
     "metadata": {},
     "output_type": "display_data"
    },
    {
     "data": {
      "application/vnd.jupyter.widget-view+json": {
       "model_id": "2d411dbf2c6742b5948e940692ab361f",
       "version_major": 2,
       "version_minor": 0
      },
      "text/plain": [
       "bloom 1024 with 50 seq and with 3 hashes:   0%|          | 0/50 [00:00<?, ?it/s]"
      ]
     },
     "metadata": {},
     "output_type": "display_data"
    },
    {
     "data": {
      "application/vnd.jupyter.widget-view+json": {
       "model_id": "0edd615dae504eae92dee0242937e9dc",
       "version_major": 2,
       "version_minor": 0
      },
      "text/plain": [
       "bloom 1024 with 50 seq and with 4 hashes:   0%|          | 0/50 [00:00<?, ?it/s]"
      ]
     },
     "metadata": {},
     "output_type": "display_data"
    },
    {
     "data": {
      "application/vnd.jupyter.widget-view+json": {
       "model_id": "9fa67f9470f044beb601c32db7752b34",
       "version_major": 2,
       "version_minor": 0
      },
      "text/plain": [
       "bloom 1024 with 500 seq and with 1 hashes:   0%|          | 0/500 [00:00<?, ?it/s]"
      ]
     },
     "metadata": {},
     "output_type": "display_data"
    },
    {
     "data": {
      "application/vnd.jupyter.widget-view+json": {
       "model_id": "2768b0f41d7b4069b8ea65bc6b02fbbe",
       "version_major": 2,
       "version_minor": 0
      },
      "text/plain": [
       "bloom 1024 with 500 seq and with 2 hashes:   0%|          | 0/500 [00:00<?, ?it/s]"
      ]
     },
     "metadata": {},
     "output_type": "display_data"
    },
    {
     "data": {
      "application/vnd.jupyter.widget-view+json": {
       "model_id": "d3159d7a2fe54b74b5e7eb910736f13f",
       "version_major": 2,
       "version_minor": 0
      },
      "text/plain": [
       "bloom 1024 with 500 seq and with 3 hashes:   0%|          | 0/500 [00:00<?, ?it/s]"
      ]
     },
     "metadata": {},
     "output_type": "display_data"
    },
    {
     "data": {
      "application/vnd.jupyter.widget-view+json": {
       "model_id": "91f1cc9622ed4d3dbb178578545876c9",
       "version_major": 2,
       "version_minor": 0
      },
      "text/plain": [
       "bloom 1024 with 500 seq and with 4 hashes:   0%|          | 0/500 [00:00<?, ?it/s]"
      ]
     },
     "metadata": {},
     "output_type": "display_data"
    },
    {
     "data": {
      "application/vnd.jupyter.widget-view+json": {
       "model_id": "c9f9204b0f924e9d9cbda53fc890235d",
       "version_major": 2,
       "version_minor": 0
      },
      "text/plain": [
       "bloom 1024 with 5000 seq and with 1 hashes:   0%|          | 0/5000 [00:00<?, ?it/s]"
      ]
     },
     "metadata": {},
     "output_type": "display_data"
    },
    {
     "data": {
      "application/vnd.jupyter.widget-view+json": {
       "model_id": "2d59ef6b3b9c4b3eae3eb519ccffbad5",
       "version_major": 2,
       "version_minor": 0
      },
      "text/plain": [
       "bloom 1024 with 5000 seq and with 2 hashes:   0%|          | 0/5000 [00:00<?, ?it/s]"
      ]
     },
     "metadata": {},
     "output_type": "display_data"
    },
    {
     "data": {
      "application/vnd.jupyter.widget-view+json": {
       "model_id": "572e47caa20349709ce65ba56cf1a6ff",
       "version_major": 2,
       "version_minor": 0
      },
      "text/plain": [
       "bloom 1024 with 5000 seq and with 3 hashes:   0%|          | 0/5000 [00:00<?, ?it/s]"
      ]
     },
     "metadata": {},
     "output_type": "display_data"
    },
    {
     "data": {
      "application/vnd.jupyter.widget-view+json": {
       "model_id": "514da67bd6dd4fcca8227306bed6f40c",
       "version_major": 2,
       "version_minor": 0
      },
      "text/plain": [
       "bloom 1024 with 5000 seq and with 4 hashes:   0%|          | 0/5000 [00:00<?, ?it/s]"
      ]
     },
     "metadata": {},
     "output_type": "display_data"
    },
    {
     "data": {
      "application/vnd.jupyter.widget-view+json": {
       "model_id": "485f475cc7eb43cb8846b4d12f2a7972",
       "version_major": 2,
       "version_minor": 0
      },
      "text/plain": [
       "bloom 1024 with 5000000 seq and with 1 hashes:   0%|          | 0/5000000 [00:00<?, ?it/s]"
      ]
     },
     "metadata": {},
     "output_type": "display_data"
    },
    {
     "data": {
      "application/vnd.jupyter.widget-view+json": {
       "model_id": "3b862b99363245f8914ee5d24bb0d3ba",
       "version_major": 2,
       "version_minor": 0
      },
      "text/plain": [
       "bloom 1024 with 5000000 seq and with 2 hashes:   0%|          | 0/5000000 [00:00<?, ?it/s]"
      ]
     },
     "metadata": {},
     "output_type": "display_data"
    },
    {
     "data": {
      "application/vnd.jupyter.widget-view+json": {
       "model_id": "7a0d02d382f14a68b5e612f885ddf949",
       "version_major": 2,
       "version_minor": 0
      },
      "text/plain": [
       "bloom 1024 with 5000000 seq and with 3 hashes:   0%|          | 0/5000000 [00:00<?, ?it/s]"
      ]
     },
     "metadata": {},
     "output_type": "display_data"
    },
    {
     "data": {
      "application/vnd.jupyter.widget-view+json": {
       "model_id": "dff6ba9166224a639c2f60451cd9f37e",
       "version_major": 2,
       "version_minor": 0
      },
      "text/plain": [
       "bloom 1024 with 5000000 seq and with 4 hashes:   0%|          | 0/5000000 [00:00<?, ?it/s]"
      ]
     },
     "metadata": {},
     "output_type": "display_data"
    },
    {
     "data": {
      "application/vnd.jupyter.widget-view+json": {
       "model_id": "2bf912f158a54356b1ebc66282a26124",
       "version_major": 2,
       "version_minor": 0
      },
      "text/plain": [
       "bloom 64000 with 5 seq and with 1 hashes:   0%|          | 0/5 [00:00<?, ?it/s]"
      ]
     },
     "metadata": {},
     "output_type": "display_data"
    },
    {
     "data": {
      "application/vnd.jupyter.widget-view+json": {
       "model_id": "bbebe311accb4699abbffb470370e9cf",
       "version_major": 2,
       "version_minor": 0
      },
      "text/plain": [
       "bloom 64000 with 5 seq and with 2 hashes:   0%|          | 0/5 [00:00<?, ?it/s]"
      ]
     },
     "metadata": {},
     "output_type": "display_data"
    },
    {
     "data": {
      "application/vnd.jupyter.widget-view+json": {
       "model_id": "71cebf6f748c42808e6cb310a37680ca",
       "version_major": 2,
       "version_minor": 0
      },
      "text/plain": [
       "bloom 64000 with 5 seq and with 3 hashes:   0%|          | 0/5 [00:00<?, ?it/s]"
      ]
     },
     "metadata": {},
     "output_type": "display_data"
    },
    {
     "data": {
      "application/vnd.jupyter.widget-view+json": {
       "model_id": "6ef8cb39d8b84d39971f87c99acfd00f",
       "version_major": 2,
       "version_minor": 0
      },
      "text/plain": [
       "bloom 64000 with 5 seq and with 4 hashes:   0%|          | 0/5 [00:00<?, ?it/s]"
      ]
     },
     "metadata": {},
     "output_type": "display_data"
    },
    {
     "data": {
      "application/vnd.jupyter.widget-view+json": {
       "model_id": "52b5e5a61865428fade960891341eb07",
       "version_major": 2,
       "version_minor": 0
      },
      "text/plain": [
       "bloom 64000 with 50 seq and with 1 hashes:   0%|          | 0/50 [00:00<?, ?it/s]"
      ]
     },
     "metadata": {},
     "output_type": "display_data"
    },
    {
     "data": {
      "application/vnd.jupyter.widget-view+json": {
       "model_id": "fed6060700c54385938d7fd0716e8e2e",
       "version_major": 2,
       "version_minor": 0
      },
      "text/plain": [
       "bloom 64000 with 50 seq and with 2 hashes:   0%|          | 0/50 [00:00<?, ?it/s]"
      ]
     },
     "metadata": {},
     "output_type": "display_data"
    },
    {
     "data": {
      "application/vnd.jupyter.widget-view+json": {
       "model_id": "febe5cca756f4d5186b0bf0a31ac11cc",
       "version_major": 2,
       "version_minor": 0
      },
      "text/plain": [
       "bloom 64000 with 50 seq and with 3 hashes:   0%|          | 0/50 [00:00<?, ?it/s]"
      ]
     },
     "metadata": {},
     "output_type": "display_data"
    },
    {
     "data": {
      "application/vnd.jupyter.widget-view+json": {
       "model_id": "49fb836559194a13bf0f703c59b57548",
       "version_major": 2,
       "version_minor": 0
      },
      "text/plain": [
       "bloom 64000 with 50 seq and with 4 hashes:   0%|          | 0/50 [00:00<?, ?it/s]"
      ]
     },
     "metadata": {},
     "output_type": "display_data"
    },
    {
     "data": {
      "application/vnd.jupyter.widget-view+json": {
       "model_id": "610c2a5ceb7f4d9f85e917c9f54da2ec",
       "version_major": 2,
       "version_minor": 0
      },
      "text/plain": [
       "bloom 64000 with 500 seq and with 1 hashes:   0%|          | 0/500 [00:00<?, ?it/s]"
      ]
     },
     "metadata": {},
     "output_type": "display_data"
    },
    {
     "data": {
      "application/vnd.jupyter.widget-view+json": {
       "model_id": "e538791dd6e44c4d88c73e89fdda2cfb",
       "version_major": 2,
       "version_minor": 0
      },
      "text/plain": [
       "bloom 64000 with 500 seq and with 2 hashes:   0%|          | 0/500 [00:00<?, ?it/s]"
      ]
     },
     "metadata": {},
     "output_type": "display_data"
    },
    {
     "data": {
      "application/vnd.jupyter.widget-view+json": {
       "model_id": "f45d313ac50440ab94e1b082b4318908",
       "version_major": 2,
       "version_minor": 0
      },
      "text/plain": [
       "bloom 64000 with 500 seq and with 3 hashes:   0%|          | 0/500 [00:00<?, ?it/s]"
      ]
     },
     "metadata": {},
     "output_type": "display_data"
    },
    {
     "data": {
      "application/vnd.jupyter.widget-view+json": {
       "model_id": "117957f7ac264554910ebbcf48c9e7e8",
       "version_major": 2,
       "version_minor": 0
      },
      "text/plain": [
       "bloom 64000 with 500 seq and with 4 hashes:   0%|          | 0/500 [00:00<?, ?it/s]"
      ]
     },
     "metadata": {},
     "output_type": "display_data"
    },
    {
     "data": {
      "application/vnd.jupyter.widget-view+json": {
       "model_id": "c14ca0682872477bb2bcc1cc6f99bf1d",
       "version_major": 2,
       "version_minor": 0
      },
      "text/plain": [
       "bloom 64000 with 5000 seq and with 1 hashes:   0%|          | 0/5000 [00:00<?, ?it/s]"
      ]
     },
     "metadata": {},
     "output_type": "display_data"
    },
    {
     "data": {
      "application/vnd.jupyter.widget-view+json": {
       "model_id": "bfe562b785fd4660b046401ef492f315",
       "version_major": 2,
       "version_minor": 0
      },
      "text/plain": [
       "bloom 64000 with 5000 seq and with 2 hashes:   0%|          | 0/5000 [00:00<?, ?it/s]"
      ]
     },
     "metadata": {},
     "output_type": "display_data"
    },
    {
     "data": {
      "application/vnd.jupyter.widget-view+json": {
       "model_id": "4a6b9e62cfae48d19a2d07d6922e232d",
       "version_major": 2,
       "version_minor": 0
      },
      "text/plain": [
       "bloom 64000 with 5000 seq and with 3 hashes:   0%|          | 0/5000 [00:00<?, ?it/s]"
      ]
     },
     "metadata": {},
     "output_type": "display_data"
    },
    {
     "data": {
      "application/vnd.jupyter.widget-view+json": {
       "model_id": "62e652bb6a52426f851bd193efa1c2c2",
       "version_major": 2,
       "version_minor": 0
      },
      "text/plain": [
       "bloom 64000 with 5000 seq and with 4 hashes:   0%|          | 0/5000 [00:00<?, ?it/s]"
      ]
     },
     "metadata": {},
     "output_type": "display_data"
    },
    {
     "data": {
      "application/vnd.jupyter.widget-view+json": {
       "model_id": "c51295ecbda9436cabb1d502a70fd7ae",
       "version_major": 2,
       "version_minor": 0
      },
      "text/plain": [
       "bloom 64000 with 5000000 seq and with 1 hashes:   0%|          | 0/5000000 [00:00<?, ?it/s]"
      ]
     },
     "metadata": {},
     "output_type": "display_data"
    },
    {
     "data": {
      "application/vnd.jupyter.widget-view+json": {
       "model_id": "78d9c83401ee479fb864317e68769e4d",
       "version_major": 2,
       "version_minor": 0
      },
      "text/plain": [
       "bloom 64000 with 5000000 seq and with 2 hashes:   0%|          | 0/5000000 [00:00<?, ?it/s]"
      ]
     },
     "metadata": {},
     "output_type": "display_data"
    },
    {
     "data": {
      "application/vnd.jupyter.widget-view+json": {
       "model_id": "8b08d570a6c1410cba23299137dfcb90",
       "version_major": 2,
       "version_minor": 0
      },
      "text/plain": [
       "bloom 64000 with 5000000 seq and with 3 hashes:   0%|          | 0/5000000 [00:00<?, ?it/s]"
      ]
     },
     "metadata": {},
     "output_type": "display_data"
    },
    {
     "data": {
      "application/vnd.jupyter.widget-view+json": {
       "model_id": "d60b4e61c2224d0f86d0d60b96f62477",
       "version_major": 2,
       "version_minor": 0
      },
      "text/plain": [
       "bloom 64000 with 5000000 seq and with 4 hashes:   0%|          | 0/5000000 [00:00<?, ?it/s]"
      ]
     },
     "metadata": {},
     "output_type": "display_data"
    },
    {
     "data": {
      "application/vnd.jupyter.widget-view+json": {
       "model_id": "b73b58a69fb54ede8bb4aaed5b792860",
       "version_major": 2,
       "version_minor": 0
      },
      "text/plain": [
       "bloom 16000000 with 5 seq and with 1 hashes:   0%|          | 0/5 [00:00<?, ?it/s]"
      ]
     },
     "metadata": {},
     "output_type": "display_data"
    },
    {
     "data": {
      "application/vnd.jupyter.widget-view+json": {
       "model_id": "0e8cd2e35b0f4e5f8bb80e3a7c54f8ea",
       "version_major": 2,
       "version_minor": 0
      },
      "text/plain": [
       "bloom 16000000 with 5 seq and with 2 hashes:   0%|          | 0/5 [00:00<?, ?it/s]"
      ]
     },
     "metadata": {},
     "output_type": "display_data"
    },
    {
     "data": {
      "application/vnd.jupyter.widget-view+json": {
       "model_id": "ca3694d5b7b04a8dab5279c55aad1930",
       "version_major": 2,
       "version_minor": 0
      },
      "text/plain": [
       "bloom 16000000 with 5 seq and with 3 hashes:   0%|          | 0/5 [00:00<?, ?it/s]"
      ]
     },
     "metadata": {},
     "output_type": "display_data"
    },
    {
     "data": {
      "application/vnd.jupyter.widget-view+json": {
       "model_id": "c23111638912491eac93794be3f9b5a7",
       "version_major": 2,
       "version_minor": 0
      },
      "text/plain": [
       "bloom 16000000 with 5 seq and with 4 hashes:   0%|          | 0/5 [00:00<?, ?it/s]"
      ]
     },
     "metadata": {},
     "output_type": "display_data"
    },
    {
     "data": {
      "application/vnd.jupyter.widget-view+json": {
       "model_id": "03cf71f046e549d09f2b7a41ee7cf24b",
       "version_major": 2,
       "version_minor": 0
      },
      "text/plain": [
       "bloom 16000000 with 50 seq and with 1 hashes:   0%|          | 0/50 [00:00<?, ?it/s]"
      ]
     },
     "metadata": {},
     "output_type": "display_data"
    },
    {
     "data": {
      "application/vnd.jupyter.widget-view+json": {
       "model_id": "e935ed3d35b44173991c04c7b0b6a99e",
       "version_major": 2,
       "version_minor": 0
      },
      "text/plain": [
       "bloom 16000000 with 50 seq and with 2 hashes:   0%|          | 0/50 [00:00<?, ?it/s]"
      ]
     },
     "metadata": {},
     "output_type": "display_data"
    },
    {
     "data": {
      "application/vnd.jupyter.widget-view+json": {
       "model_id": "1712c2fece0644b9ae6f60d42ab69442",
       "version_major": 2,
       "version_minor": 0
      },
      "text/plain": [
       "bloom 16000000 with 50 seq and with 3 hashes:   0%|          | 0/50 [00:00<?, ?it/s]"
      ]
     },
     "metadata": {},
     "output_type": "display_data"
    },
    {
     "data": {
      "application/vnd.jupyter.widget-view+json": {
       "model_id": "edc61c76b63a440e805986914dc2314a",
       "version_major": 2,
       "version_minor": 0
      },
      "text/plain": [
       "bloom 16000000 with 50 seq and with 4 hashes:   0%|          | 0/50 [00:00<?, ?it/s]"
      ]
     },
     "metadata": {},
     "output_type": "display_data"
    },
    {
     "data": {
      "application/vnd.jupyter.widget-view+json": {
       "model_id": "27e7dc5d3f25495987cc6bd444b5968d",
       "version_major": 2,
       "version_minor": 0
      },
      "text/plain": [
       "bloom 16000000 with 500 seq and with 1 hashes:   0%|          | 0/500 [00:00<?, ?it/s]"
      ]
     },
     "metadata": {},
     "output_type": "display_data"
    },
    {
     "data": {
      "application/vnd.jupyter.widget-view+json": {
       "model_id": "d7ba38dbca8647eb85de24c0801f7b85",
       "version_major": 2,
       "version_minor": 0
      },
      "text/plain": [
       "bloom 16000000 with 500 seq and with 2 hashes:   0%|          | 0/500 [00:00<?, ?it/s]"
      ]
     },
     "metadata": {},
     "output_type": "display_data"
    },
    {
     "data": {
      "application/vnd.jupyter.widget-view+json": {
       "model_id": "a212c6105c7e4bb8bc986634dfad288c",
       "version_major": 2,
       "version_minor": 0
      },
      "text/plain": [
       "bloom 16000000 with 500 seq and with 3 hashes:   0%|          | 0/500 [00:00<?, ?it/s]"
      ]
     },
     "metadata": {},
     "output_type": "display_data"
    },
    {
     "data": {
      "application/vnd.jupyter.widget-view+json": {
       "model_id": "8d47e666be6c402f90f3336eced95f9f",
       "version_major": 2,
       "version_minor": 0
      },
      "text/plain": [
       "bloom 16000000 with 500 seq and with 4 hashes:   0%|          | 0/500 [00:00<?, ?it/s]"
      ]
     },
     "metadata": {},
     "output_type": "display_data"
    },
    {
     "data": {
      "application/vnd.jupyter.widget-view+json": {
       "model_id": "3c5d3d8d8c6b4930a79cb8044cb181a5",
       "version_major": 2,
       "version_minor": 0
      },
      "text/plain": [
       "bloom 16000000 with 5000 seq and with 1 hashes:   0%|          | 0/5000 [00:00<?, ?it/s]"
      ]
     },
     "metadata": {},
     "output_type": "display_data"
    },
    {
     "data": {
      "application/vnd.jupyter.widget-view+json": {
       "model_id": "46fb70dfcff34c56809f424bbb62e071",
       "version_major": 2,
       "version_minor": 0
      },
      "text/plain": [
       "bloom 16000000 with 5000 seq and with 2 hashes:   0%|          | 0/5000 [00:00<?, ?it/s]"
      ]
     },
     "metadata": {},
     "output_type": "display_data"
    },
    {
     "data": {
      "application/vnd.jupyter.widget-view+json": {
       "model_id": "011c43b6bd44470aa186c5e805c3bf04",
       "version_major": 2,
       "version_minor": 0
      },
      "text/plain": [
       "bloom 16000000 with 5000 seq and with 3 hashes:   0%|          | 0/5000 [00:00<?, ?it/s]"
      ]
     },
     "metadata": {},
     "output_type": "display_data"
    },
    {
     "data": {
      "application/vnd.jupyter.widget-view+json": {
       "model_id": "116b0726ca134c6685c316222b65697a",
       "version_major": 2,
       "version_minor": 0
      },
      "text/plain": [
       "bloom 16000000 with 5000 seq and with 4 hashes:   0%|          | 0/5000 [00:00<?, ?it/s]"
      ]
     },
     "metadata": {},
     "output_type": "display_data"
    },
    {
     "data": {
      "application/vnd.jupyter.widget-view+json": {
       "model_id": "7a9b435ef47545b28419ae4937de79e5",
       "version_major": 2,
       "version_minor": 0
      },
      "text/plain": [
       "bloom 16000000 with 5000000 seq and with 1 hashes:   0%|          | 0/5000000 [00:00<?, ?it/s]"
      ]
     },
     "metadata": {},
     "output_type": "display_data"
    },
    {
     "data": {
      "application/vnd.jupyter.widget-view+json": {
       "model_id": "5e9e6b9c54be4a129fc39a5e98bb9178",
       "version_major": 2,
       "version_minor": 0
      },
      "text/plain": [
       "bloom 16000000 with 5000000 seq and with 2 hashes:   0%|          | 0/5000000 [00:00<?, ?it/s]"
      ]
     },
     "metadata": {},
     "output_type": "display_data"
    },
    {
     "data": {
      "application/vnd.jupyter.widget-view+json": {
       "model_id": "7c0ec2bb7d454ecfbb9d28b4699df991",
       "version_major": 2,
       "version_minor": 0
      },
      "text/plain": [
       "bloom 16000000 with 5000000 seq and with 3 hashes:   0%|          | 0/5000000 [00:00<?, ?it/s]"
      ]
     },
     "metadata": {},
     "output_type": "display_data"
    },
    {
     "data": {
      "application/vnd.jupyter.widget-view+json": {
       "model_id": "5e865f7ccff3443489534b3c6e3bcd4b",
       "version_major": 2,
       "version_minor": 0
      },
      "text/plain": [
       "bloom 16000000 with 5000000 seq and with 4 hashes:   0%|          | 0/5000000 [00:00<?, ?it/s]"
      ]
     },
     "metadata": {},
     "output_type": "display_data"
    }
   ],
   "source": [
    "matrix_res_hashes = np.zeros(\n",
    "    (len(bloom_sizes) * len(set_sizes) * len(count_hashes) , 5),\n",
    "    dtype=int\n",
    ")\n",
    "\n",
    "curent_row_idx = 0 \n",
    "for b_size in bloom_sizes:\n",
    "    for set_size in set_sizes:\n",
    "        for k_hash in count_hashes:\n",
    "            matrix_res_hashes[curent_row_idx, 0] = k_hash\n",
    "            matrix_res_hashes[curent_row_idx, 1] = b_size\n",
    "            matrix_res_hashes[curent_row_idx, 2] = set_size\n",
    "\n",
    "            b_filter = BloomFilterNHash(k_hash, b_size)\n",
    "\n",
    "            with open(f'bloom_{set_size}_seq.txt', 'r') as f:\n",
    "                s_iter = tqdm(\n",
    "                    (line for line in f),\n",
    "                    total=set_size,\n",
    "                    desc=f'bloom {b_size} with {set_size} seq and with {k_hash} hashes'\n",
    "                )\n",
    "                for s in s_iter:            \n",
    "                    if b_filter.get(s):\n",
    "                        matrix_res_hashes[curent_row_idx, 3] += 1\n",
    "\n",
    "                    b_filter.put(s)\n",
    "            \n",
    "            matrix_res_hashes[curent_row_idx, 4] += b_filter.size()\n",
    "\n",
    "            curent_row_idx += 1"
   ]
  },
  {
   "cell_type": "code",
   "execution_count": 10,
   "metadata": {},
   "outputs": [],
   "source": [
    "table_res_2 = pd.DataFrame(matrix_res_hashes, \n",
    "                         columns=['k_hash', 'bf_size', 'set_size', 'fp_count', 'ones_count'])\n",
    "table_res_2.to_csv('result_task_2.csv', index=False)"
   ]
  },
  {
   "cell_type": "code",
   "execution_count": 11,
   "metadata": {},
   "outputs": [
    {
     "data": {
      "text/html": [
       "<div>\n",
       "<style scoped>\n",
       "    .dataframe tbody tr th:only-of-type {\n",
       "        vertical-align: middle;\n",
       "    }\n",
       "\n",
       "    .dataframe tbody tr th {\n",
       "        vertical-align: top;\n",
       "    }\n",
       "\n",
       "    .dataframe thead th {\n",
       "        text-align: right;\n",
       "    }\n",
       "</style>\n",
       "<table border=\"1\" class=\"dataframe\">\n",
       "  <thead>\n",
       "    <tr style=\"text-align: right;\">\n",
       "      <th></th>\n",
       "      <th>k_hash</th>\n",
       "      <th>bf_size</th>\n",
       "      <th>set_size</th>\n",
       "      <th>fp_count</th>\n",
       "      <th>ones_count</th>\n",
       "    </tr>\n",
       "  </thead>\n",
       "  <tbody>\n",
       "    <tr>\n",
       "      <th>0</th>\n",
       "      <td>1</td>\n",
       "      <td>8</td>\n",
       "      <td>5</td>\n",
       "      <td>1</td>\n",
       "      <td>4</td>\n",
       "    </tr>\n",
       "    <tr>\n",
       "      <th>1</th>\n",
       "      <td>2</td>\n",
       "      <td>8</td>\n",
       "      <td>5</td>\n",
       "      <td>1</td>\n",
       "      <td>3</td>\n",
       "    </tr>\n",
       "    <tr>\n",
       "      <th>2</th>\n",
       "      <td>3</td>\n",
       "      <td>8</td>\n",
       "      <td>5</td>\n",
       "      <td>2</td>\n",
       "      <td>2</td>\n",
       "    </tr>\n",
       "    <tr>\n",
       "      <th>3</th>\n",
       "      <td>4</td>\n",
       "      <td>8</td>\n",
       "      <td>5</td>\n",
       "      <td>2</td>\n",
       "      <td>2</td>\n",
       "    </tr>\n",
       "    <tr>\n",
       "      <th>4</th>\n",
       "      <td>1</td>\n",
       "      <td>8</td>\n",
       "      <td>50</td>\n",
       "      <td>42</td>\n",
       "      <td>8</td>\n",
       "    </tr>\n",
       "    <tr>\n",
       "      <th>5</th>\n",
       "      <td>2</td>\n",
       "      <td>8</td>\n",
       "      <td>50</td>\n",
       "      <td>45</td>\n",
       "      <td>4</td>\n",
       "    </tr>\n",
       "    <tr>\n",
       "      <th>6</th>\n",
       "      <td>3</td>\n",
       "      <td>8</td>\n",
       "      <td>50</td>\n",
       "      <td>45</td>\n",
       "      <td>2</td>\n",
       "    </tr>\n",
       "    <tr>\n",
       "      <th>7</th>\n",
       "      <td>4</td>\n",
       "      <td>8</td>\n",
       "      <td>50</td>\n",
       "      <td>47</td>\n",
       "      <td>2</td>\n",
       "    </tr>\n",
       "    <tr>\n",
       "      <th>8</th>\n",
       "      <td>1</td>\n",
       "      <td>8</td>\n",
       "      <td>500</td>\n",
       "      <td>492</td>\n",
       "      <td>8</td>\n",
       "    </tr>\n",
       "    <tr>\n",
       "      <th>9</th>\n",
       "      <td>2</td>\n",
       "      <td>8</td>\n",
       "      <td>500</td>\n",
       "      <td>495</td>\n",
       "      <td>4</td>\n",
       "    </tr>\n",
       "    <tr>\n",
       "      <th>10</th>\n",
       "      <td>3</td>\n",
       "      <td>8</td>\n",
       "      <td>500</td>\n",
       "      <td>495</td>\n",
       "      <td>2</td>\n",
       "    </tr>\n",
       "    <tr>\n",
       "      <th>11</th>\n",
       "      <td>4</td>\n",
       "      <td>8</td>\n",
       "      <td>500</td>\n",
       "      <td>496</td>\n",
       "      <td>2</td>\n",
       "    </tr>\n",
       "    <tr>\n",
       "      <th>12</th>\n",
       "      <td>1</td>\n",
       "      <td>8</td>\n",
       "      <td>5000</td>\n",
       "      <td>4992</td>\n",
       "      <td>8</td>\n",
       "    </tr>\n",
       "    <tr>\n",
       "      <th>13</th>\n",
       "      <td>2</td>\n",
       "      <td>8</td>\n",
       "      <td>5000</td>\n",
       "      <td>4994</td>\n",
       "      <td>4</td>\n",
       "    </tr>\n",
       "    <tr>\n",
       "      <th>14</th>\n",
       "      <td>3</td>\n",
       "      <td>8</td>\n",
       "      <td>5000</td>\n",
       "      <td>4995</td>\n",
       "      <td>2</td>\n",
       "    </tr>\n",
       "    <tr>\n",
       "      <th>15</th>\n",
       "      <td>4</td>\n",
       "      <td>8</td>\n",
       "      <td>5000</td>\n",
       "      <td>4996</td>\n",
       "      <td>2</td>\n",
       "    </tr>\n",
       "    <tr>\n",
       "      <th>16</th>\n",
       "      <td>1</td>\n",
       "      <td>8</td>\n",
       "      <td>5000000</td>\n",
       "      <td>4999992</td>\n",
       "      <td>8</td>\n",
       "    </tr>\n",
       "    <tr>\n",
       "      <th>17</th>\n",
       "      <td>2</td>\n",
       "      <td>8</td>\n",
       "      <td>5000000</td>\n",
       "      <td>4999994</td>\n",
       "      <td>4</td>\n",
       "    </tr>\n",
       "    <tr>\n",
       "      <th>18</th>\n",
       "      <td>3</td>\n",
       "      <td>8</td>\n",
       "      <td>5000000</td>\n",
       "      <td>4999995</td>\n",
       "      <td>2</td>\n",
       "    </tr>\n",
       "    <tr>\n",
       "      <th>19</th>\n",
       "      <td>4</td>\n",
       "      <td>8</td>\n",
       "      <td>5000000</td>\n",
       "      <td>4999996</td>\n",
       "      <td>2</td>\n",
       "    </tr>\n",
       "    <tr>\n",
       "      <th>20</th>\n",
       "      <td>1</td>\n",
       "      <td>64</td>\n",
       "      <td>5</td>\n",
       "      <td>0</td>\n",
       "      <td>5</td>\n",
       "    </tr>\n",
       "    <tr>\n",
       "      <th>21</th>\n",
       "      <td>2</td>\n",
       "      <td>64</td>\n",
       "      <td>5</td>\n",
       "      <td>0</td>\n",
       "      <td>5</td>\n",
       "    </tr>\n",
       "    <tr>\n",
       "      <th>22</th>\n",
       "      <td>3</td>\n",
       "      <td>64</td>\n",
       "      <td>5</td>\n",
       "      <td>0</td>\n",
       "      <td>4</td>\n",
       "    </tr>\n",
       "    <tr>\n",
       "      <th>23</th>\n",
       "      <td>4</td>\n",
       "      <td>64</td>\n",
       "      <td>5</td>\n",
       "      <td>0</td>\n",
       "      <td>4</td>\n",
       "    </tr>\n",
       "    <tr>\n",
       "      <th>24</th>\n",
       "      <td>1</td>\n",
       "      <td>64</td>\n",
       "      <td>50</td>\n",
       "      <td>18</td>\n",
       "      <td>32</td>\n",
       "    </tr>\n",
       "    <tr>\n",
       "      <th>25</th>\n",
       "      <td>2</td>\n",
       "      <td>64</td>\n",
       "      <td>50</td>\n",
       "      <td>12</td>\n",
       "      <td>26</td>\n",
       "    </tr>\n",
       "    <tr>\n",
       "      <th>26</th>\n",
       "      <td>3</td>\n",
       "      <td>64</td>\n",
       "      <td>50</td>\n",
       "      <td>10</td>\n",
       "      <td>20</td>\n",
       "    </tr>\n",
       "    <tr>\n",
       "      <th>27</th>\n",
       "      <td>4</td>\n",
       "      <td>64</td>\n",
       "      <td>50</td>\n",
       "      <td>13</td>\n",
       "      <td>15</td>\n",
       "    </tr>\n",
       "    <tr>\n",
       "      <th>28</th>\n",
       "      <td>1</td>\n",
       "      <td>64</td>\n",
       "      <td>500</td>\n",
       "      <td>436</td>\n",
       "      <td>64</td>\n",
       "    </tr>\n",
       "    <tr>\n",
       "      <th>29</th>\n",
       "      <td>2</td>\n",
       "      <td>64</td>\n",
       "      <td>500</td>\n",
       "      <td>452</td>\n",
       "      <td>32</td>\n",
       "    </tr>\n",
       "    <tr>\n",
       "      <th>30</th>\n",
       "      <td>3</td>\n",
       "      <td>64</td>\n",
       "      <td>500</td>\n",
       "      <td>460</td>\n",
       "      <td>21</td>\n",
       "    </tr>\n",
       "    <tr>\n",
       "      <th>31</th>\n",
       "      <td>4</td>\n",
       "      <td>64</td>\n",
       "      <td>500</td>\n",
       "      <td>468</td>\n",
       "      <td>16</td>\n",
       "    </tr>\n",
       "    <tr>\n",
       "      <th>32</th>\n",
       "      <td>1</td>\n",
       "      <td>64</td>\n",
       "      <td>5000</td>\n",
       "      <td>4936</td>\n",
       "      <td>64</td>\n",
       "    </tr>\n",
       "    <tr>\n",
       "      <th>33</th>\n",
       "      <td>2</td>\n",
       "      <td>64</td>\n",
       "      <td>5000</td>\n",
       "      <td>4951</td>\n",
       "      <td>32</td>\n",
       "    </tr>\n",
       "    <tr>\n",
       "      <th>34</th>\n",
       "      <td>3</td>\n",
       "      <td>64</td>\n",
       "      <td>5000</td>\n",
       "      <td>4959</td>\n",
       "      <td>21</td>\n",
       "    </tr>\n",
       "    <tr>\n",
       "      <th>35</th>\n",
       "      <td>4</td>\n",
       "      <td>64</td>\n",
       "      <td>5000</td>\n",
       "      <td>4966</td>\n",
       "      <td>16</td>\n",
       "    </tr>\n",
       "    <tr>\n",
       "      <th>36</th>\n",
       "      <td>1</td>\n",
       "      <td>64</td>\n",
       "      <td>5000000</td>\n",
       "      <td>4999936</td>\n",
       "      <td>64</td>\n",
       "    </tr>\n",
       "    <tr>\n",
       "      <th>37</th>\n",
       "      <td>2</td>\n",
       "      <td>64</td>\n",
       "      <td>5000000</td>\n",
       "      <td>4999948</td>\n",
       "      <td>32</td>\n",
       "    </tr>\n",
       "    <tr>\n",
       "      <th>38</th>\n",
       "      <td>3</td>\n",
       "      <td>64</td>\n",
       "      <td>5000000</td>\n",
       "      <td>4999958</td>\n",
       "      <td>21</td>\n",
       "    </tr>\n",
       "    <tr>\n",
       "      <th>39</th>\n",
       "      <td>4</td>\n",
       "      <td>64</td>\n",
       "      <td>5000000</td>\n",
       "      <td>4999963</td>\n",
       "      <td>16</td>\n",
       "    </tr>\n",
       "    <tr>\n",
       "      <th>40</th>\n",
       "      <td>1</td>\n",
       "      <td>1024</td>\n",
       "      <td>5</td>\n",
       "      <td>0</td>\n",
       "      <td>5</td>\n",
       "    </tr>\n",
       "    <tr>\n",
       "      <th>41</th>\n",
       "      <td>2</td>\n",
       "      <td>1024</td>\n",
       "      <td>5</td>\n",
       "      <td>0</td>\n",
       "      <td>5</td>\n",
       "    </tr>\n",
       "    <tr>\n",
       "      <th>42</th>\n",
       "      <td>3</td>\n",
       "      <td>1024</td>\n",
       "      <td>5</td>\n",
       "      <td>0</td>\n",
       "      <td>5</td>\n",
       "    </tr>\n",
       "    <tr>\n",
       "      <th>43</th>\n",
       "      <td>4</td>\n",
       "      <td>1024</td>\n",
       "      <td>5</td>\n",
       "      <td>0</td>\n",
       "      <td>5</td>\n",
       "    </tr>\n",
       "    <tr>\n",
       "      <th>44</th>\n",
       "      <td>1</td>\n",
       "      <td>1024</td>\n",
       "      <td>50</td>\n",
       "      <td>3</td>\n",
       "      <td>47</td>\n",
       "    </tr>\n",
       "    <tr>\n",
       "      <th>45</th>\n",
       "      <td>2</td>\n",
       "      <td>1024</td>\n",
       "      <td>50</td>\n",
       "      <td>0</td>\n",
       "      <td>47</td>\n",
       "    </tr>\n",
       "    <tr>\n",
       "      <th>46</th>\n",
       "      <td>3</td>\n",
       "      <td>1024</td>\n",
       "      <td>50</td>\n",
       "      <td>0</td>\n",
       "      <td>47</td>\n",
       "    </tr>\n",
       "    <tr>\n",
       "      <th>47</th>\n",
       "      <td>4</td>\n",
       "      <td>1024</td>\n",
       "      <td>50</td>\n",
       "      <td>0</td>\n",
       "      <td>46</td>\n",
       "    </tr>\n",
       "    <tr>\n",
       "      <th>48</th>\n",
       "      <td>1</td>\n",
       "      <td>1024</td>\n",
       "      <td>500</td>\n",
       "      <td>105</td>\n",
       "      <td>395</td>\n",
       "    </tr>\n",
       "    <tr>\n",
       "      <th>49</th>\n",
       "      <td>2</td>\n",
       "      <td>1024</td>\n",
       "      <td>500</td>\n",
       "      <td>80</td>\n",
       "      <td>322</td>\n",
       "    </tr>\n",
       "    <tr>\n",
       "      <th>50</th>\n",
       "      <td>3</td>\n",
       "      <td>1024</td>\n",
       "      <td>500</td>\n",
       "      <td>85</td>\n",
       "      <td>264</td>\n",
       "    </tr>\n",
       "    <tr>\n",
       "      <th>51</th>\n",
       "      <td>4</td>\n",
       "      <td>1024</td>\n",
       "      <td>500</td>\n",
       "      <td>99</td>\n",
       "      <td>221</td>\n",
       "    </tr>\n",
       "    <tr>\n",
       "      <th>52</th>\n",
       "      <td>1</td>\n",
       "      <td>1024</td>\n",
       "      <td>5000</td>\n",
       "      <td>3985</td>\n",
       "      <td>1015</td>\n",
       "    </tr>\n",
       "    <tr>\n",
       "      <th>53</th>\n",
       "      <td>2</td>\n",
       "      <td>1024</td>\n",
       "      <td>5000</td>\n",
       "      <td>4242</td>\n",
       "      <td>512</td>\n",
       "    </tr>\n",
       "    <tr>\n",
       "      <th>54</th>\n",
       "      <td>3</td>\n",
       "      <td>1024</td>\n",
       "      <td>5000</td>\n",
       "      <td>4380</td>\n",
       "      <td>341</td>\n",
       "    </tr>\n",
       "    <tr>\n",
       "      <th>55</th>\n",
       "      <td>4</td>\n",
       "      <td>1024</td>\n",
       "      <td>5000</td>\n",
       "      <td>4478</td>\n",
       "      <td>256</td>\n",
       "    </tr>\n",
       "    <tr>\n",
       "      <th>56</th>\n",
       "      <td>1</td>\n",
       "      <td>1024</td>\n",
       "      <td>5000000</td>\n",
       "      <td>4998976</td>\n",
       "      <td>1024</td>\n",
       "    </tr>\n",
       "    <tr>\n",
       "      <th>57</th>\n",
       "      <td>2</td>\n",
       "      <td>1024</td>\n",
       "      <td>5000000</td>\n",
       "      <td>4999226</td>\n",
       "      <td>512</td>\n",
       "    </tr>\n",
       "    <tr>\n",
       "      <th>58</th>\n",
       "      <td>3</td>\n",
       "      <td>1024</td>\n",
       "      <td>5000000</td>\n",
       "      <td>4999380</td>\n",
       "      <td>341</td>\n",
       "    </tr>\n",
       "    <tr>\n",
       "      <th>59</th>\n",
       "      <td>4</td>\n",
       "      <td>1024</td>\n",
       "      <td>5000000</td>\n",
       "      <td>4999473</td>\n",
       "      <td>256</td>\n",
       "    </tr>\n",
       "    <tr>\n",
       "      <th>60</th>\n",
       "      <td>1</td>\n",
       "      <td>64000</td>\n",
       "      <td>5</td>\n",
       "      <td>0</td>\n",
       "      <td>5</td>\n",
       "    </tr>\n",
       "    <tr>\n",
       "      <th>61</th>\n",
       "      <td>2</td>\n",
       "      <td>64000</td>\n",
       "      <td>5</td>\n",
       "      <td>0</td>\n",
       "      <td>5</td>\n",
       "    </tr>\n",
       "    <tr>\n",
       "      <th>62</th>\n",
       "      <td>3</td>\n",
       "      <td>64000</td>\n",
       "      <td>5</td>\n",
       "      <td>0</td>\n",
       "      <td>5</td>\n",
       "    </tr>\n",
       "    <tr>\n",
       "      <th>63</th>\n",
       "      <td>4</td>\n",
       "      <td>64000</td>\n",
       "      <td>5</td>\n",
       "      <td>0</td>\n",
       "      <td>5</td>\n",
       "    </tr>\n",
       "    <tr>\n",
       "      <th>64</th>\n",
       "      <td>1</td>\n",
       "      <td>64000</td>\n",
       "      <td>50</td>\n",
       "      <td>0</td>\n",
       "      <td>50</td>\n",
       "    </tr>\n",
       "    <tr>\n",
       "      <th>65</th>\n",
       "      <td>2</td>\n",
       "      <td>64000</td>\n",
       "      <td>50</td>\n",
       "      <td>0</td>\n",
       "      <td>50</td>\n",
       "    </tr>\n",
       "    <tr>\n",
       "      <th>66</th>\n",
       "      <td>3</td>\n",
       "      <td>64000</td>\n",
       "      <td>50</td>\n",
       "      <td>0</td>\n",
       "      <td>50</td>\n",
       "    </tr>\n",
       "    <tr>\n",
       "      <th>67</th>\n",
       "      <td>4</td>\n",
       "      <td>64000</td>\n",
       "      <td>50</td>\n",
       "      <td>0</td>\n",
       "      <td>50</td>\n",
       "    </tr>\n",
       "    <tr>\n",
       "      <th>68</th>\n",
       "      <td>1</td>\n",
       "      <td>64000</td>\n",
       "      <td>500</td>\n",
       "      <td>2</td>\n",
       "      <td>498</td>\n",
       "    </tr>\n",
       "    <tr>\n",
       "      <th>69</th>\n",
       "      <td>2</td>\n",
       "      <td>64000</td>\n",
       "      <td>500</td>\n",
       "      <td>0</td>\n",
       "      <td>496</td>\n",
       "    </tr>\n",
       "    <tr>\n",
       "      <th>70</th>\n",
       "      <td>3</td>\n",
       "      <td>64000</td>\n",
       "      <td>500</td>\n",
       "      <td>0</td>\n",
       "      <td>493</td>\n",
       "    </tr>\n",
       "    <tr>\n",
       "      <th>71</th>\n",
       "      <td>4</td>\n",
       "      <td>64000</td>\n",
       "      <td>500</td>\n",
       "      <td>0</td>\n",
       "      <td>492</td>\n",
       "    </tr>\n",
       "    <tr>\n",
       "      <th>72</th>\n",
       "      <td>1</td>\n",
       "      <td>64000</td>\n",
       "      <td>5000</td>\n",
       "      <td>171</td>\n",
       "      <td>4829</td>\n",
       "    </tr>\n",
       "    <tr>\n",
       "      <th>73</th>\n",
       "      <td>2</td>\n",
       "      <td>64000</td>\n",
       "      <td>5000</td>\n",
       "      <td>38</td>\n",
       "      <td>4633</td>\n",
       "    </tr>\n",
       "    <tr>\n",
       "      <th>74</th>\n",
       "      <td>3</td>\n",
       "      <td>64000</td>\n",
       "      <td>5000</td>\n",
       "      <td>18</td>\n",
       "      <td>4454</td>\n",
       "    </tr>\n",
       "    <tr>\n",
       "      <th>75</th>\n",
       "      <td>4</td>\n",
       "      <td>64000</td>\n",
       "      <td>5000</td>\n",
       "      <td>7</td>\n",
       "      <td>4285</td>\n",
       "    </tr>\n",
       "    <tr>\n",
       "      <th>76</th>\n",
       "      <td>1</td>\n",
       "      <td>64000</td>\n",
       "      <td>5000000</td>\n",
       "      <td>4936000</td>\n",
       "      <td>64000</td>\n",
       "    </tr>\n",
       "    <tr>\n",
       "      <th>77</th>\n",
       "      <td>2</td>\n",
       "      <td>64000</td>\n",
       "      <td>5000000</td>\n",
       "      <td>4952087</td>\n",
       "      <td>32000</td>\n",
       "    </tr>\n",
       "    <tr>\n",
       "      <th>78</th>\n",
       "      <td>3</td>\n",
       "      <td>64000</td>\n",
       "      <td>5000000</td>\n",
       "      <td>4960938</td>\n",
       "      <td>21333</td>\n",
       "    </tr>\n",
       "    <tr>\n",
       "      <th>79</th>\n",
       "      <td>4</td>\n",
       "      <td>64000</td>\n",
       "      <td>5000000</td>\n",
       "      <td>4966696</td>\n",
       "      <td>16000</td>\n",
       "    </tr>\n",
       "    <tr>\n",
       "      <th>80</th>\n",
       "      <td>1</td>\n",
       "      <td>16000000</td>\n",
       "      <td>5</td>\n",
       "      <td>0</td>\n",
       "      <td>5</td>\n",
       "    </tr>\n",
       "    <tr>\n",
       "      <th>81</th>\n",
       "      <td>2</td>\n",
       "      <td>16000000</td>\n",
       "      <td>5</td>\n",
       "      <td>0</td>\n",
       "      <td>5</td>\n",
       "    </tr>\n",
       "    <tr>\n",
       "      <th>82</th>\n",
       "      <td>3</td>\n",
       "      <td>16000000</td>\n",
       "      <td>5</td>\n",
       "      <td>0</td>\n",
       "      <td>5</td>\n",
       "    </tr>\n",
       "    <tr>\n",
       "      <th>83</th>\n",
       "      <td>4</td>\n",
       "      <td>16000000</td>\n",
       "      <td>5</td>\n",
       "      <td>0</td>\n",
       "      <td>5</td>\n",
       "    </tr>\n",
       "    <tr>\n",
       "      <th>84</th>\n",
       "      <td>1</td>\n",
       "      <td>16000000</td>\n",
       "      <td>50</td>\n",
       "      <td>0</td>\n",
       "      <td>50</td>\n",
       "    </tr>\n",
       "    <tr>\n",
       "      <th>85</th>\n",
       "      <td>2</td>\n",
       "      <td>16000000</td>\n",
       "      <td>50</td>\n",
       "      <td>0</td>\n",
       "      <td>50</td>\n",
       "    </tr>\n",
       "    <tr>\n",
       "      <th>86</th>\n",
       "      <td>3</td>\n",
       "      <td>16000000</td>\n",
       "      <td>50</td>\n",
       "      <td>0</td>\n",
       "      <td>50</td>\n",
       "    </tr>\n",
       "    <tr>\n",
       "      <th>87</th>\n",
       "      <td>4</td>\n",
       "      <td>16000000</td>\n",
       "      <td>50</td>\n",
       "      <td>0</td>\n",
       "      <td>50</td>\n",
       "    </tr>\n",
       "    <tr>\n",
       "      <th>88</th>\n",
       "      <td>1</td>\n",
       "      <td>16000000</td>\n",
       "      <td>500</td>\n",
       "      <td>0</td>\n",
       "      <td>500</td>\n",
       "    </tr>\n",
       "    <tr>\n",
       "      <th>89</th>\n",
       "      <td>2</td>\n",
       "      <td>16000000</td>\n",
       "      <td>500</td>\n",
       "      <td>0</td>\n",
       "      <td>500</td>\n",
       "    </tr>\n",
       "    <tr>\n",
       "      <th>90</th>\n",
       "      <td>3</td>\n",
       "      <td>16000000</td>\n",
       "      <td>500</td>\n",
       "      <td>0</td>\n",
       "      <td>500</td>\n",
       "    </tr>\n",
       "    <tr>\n",
       "      <th>91</th>\n",
       "      <td>4</td>\n",
       "      <td>16000000</td>\n",
       "      <td>500</td>\n",
       "      <td>0</td>\n",
       "      <td>500</td>\n",
       "    </tr>\n",
       "    <tr>\n",
       "      <th>92</th>\n",
       "      <td>1</td>\n",
       "      <td>16000000</td>\n",
       "      <td>5000</td>\n",
       "      <td>0</td>\n",
       "      <td>5000</td>\n",
       "    </tr>\n",
       "    <tr>\n",
       "      <th>93</th>\n",
       "      <td>2</td>\n",
       "      <td>16000000</td>\n",
       "      <td>5000</td>\n",
       "      <td>0</td>\n",
       "      <td>4998</td>\n",
       "    </tr>\n",
       "    <tr>\n",
       "      <th>94</th>\n",
       "      <td>3</td>\n",
       "      <td>16000000</td>\n",
       "      <td>5000</td>\n",
       "      <td>0</td>\n",
       "      <td>4997</td>\n",
       "    </tr>\n",
       "    <tr>\n",
       "      <th>95</th>\n",
       "      <td>4</td>\n",
       "      <td>16000000</td>\n",
       "      <td>5000</td>\n",
       "      <td>0</td>\n",
       "      <td>4995</td>\n",
       "    </tr>\n",
       "    <tr>\n",
       "      <th>96</th>\n",
       "      <td>1</td>\n",
       "      <td>16000000</td>\n",
       "      <td>5000000</td>\n",
       "      <td>705054</td>\n",
       "      <td>4294946</td>\n",
       "    </tr>\n",
       "    <tr>\n",
       "      <th>97</th>\n",
       "      <td>2</td>\n",
       "      <td>16000000</td>\n",
       "      <td>5000000</td>\n",
       "      <td>418262</td>\n",
       "      <td>3718339</td>\n",
       "    </tr>\n",
       "    <tr>\n",
       "      <th>98</th>\n",
       "      <td>3</td>\n",
       "      <td>16000000</td>\n",
       "      <td>5000000</td>\n",
       "      <td>367528</td>\n",
       "      <td>3244642</td>\n",
       "    </tr>\n",
       "    <tr>\n",
       "      <th>99</th>\n",
       "      <td>4</td>\n",
       "      <td>16000000</td>\n",
       "      <td>5000000</td>\n",
       "      <td>384628</td>\n",
       "      <td>2853694</td>\n",
       "    </tr>\n",
       "  </tbody>\n",
       "</table>\n",
       "</div>"
      ],
      "text/plain": [
       "    k_hash   bf_size  set_size  fp_count  ones_count\n",
       "0        1         8         5         1           4\n",
       "1        2         8         5         1           3\n",
       "2        3         8         5         2           2\n",
       "3        4         8         5         2           2\n",
       "4        1         8        50        42           8\n",
       "5        2         8        50        45           4\n",
       "6        3         8        50        45           2\n",
       "7        4         8        50        47           2\n",
       "8        1         8       500       492           8\n",
       "9        2         8       500       495           4\n",
       "10       3         8       500       495           2\n",
       "11       4         8       500       496           2\n",
       "12       1         8      5000      4992           8\n",
       "13       2         8      5000      4994           4\n",
       "14       3         8      5000      4995           2\n",
       "15       4         8      5000      4996           2\n",
       "16       1         8   5000000   4999992           8\n",
       "17       2         8   5000000   4999994           4\n",
       "18       3         8   5000000   4999995           2\n",
       "19       4         8   5000000   4999996           2\n",
       "20       1        64         5         0           5\n",
       "21       2        64         5         0           5\n",
       "22       3        64         5         0           4\n",
       "23       4        64         5         0           4\n",
       "24       1        64        50        18          32\n",
       "25       2        64        50        12          26\n",
       "26       3        64        50        10          20\n",
       "27       4        64        50        13          15\n",
       "28       1        64       500       436          64\n",
       "29       2        64       500       452          32\n",
       "30       3        64       500       460          21\n",
       "31       4        64       500       468          16\n",
       "32       1        64      5000      4936          64\n",
       "33       2        64      5000      4951          32\n",
       "34       3        64      5000      4959          21\n",
       "35       4        64      5000      4966          16\n",
       "36       1        64   5000000   4999936          64\n",
       "37       2        64   5000000   4999948          32\n",
       "38       3        64   5000000   4999958          21\n",
       "39       4        64   5000000   4999963          16\n",
       "40       1      1024         5         0           5\n",
       "41       2      1024         5         0           5\n",
       "42       3      1024         5         0           5\n",
       "43       4      1024         5         0           5\n",
       "44       1      1024        50         3          47\n",
       "45       2      1024        50         0          47\n",
       "46       3      1024        50         0          47\n",
       "47       4      1024        50         0          46\n",
       "48       1      1024       500       105         395\n",
       "49       2      1024       500        80         322\n",
       "50       3      1024       500        85         264\n",
       "51       4      1024       500        99         221\n",
       "52       1      1024      5000      3985        1015\n",
       "53       2      1024      5000      4242         512\n",
       "54       3      1024      5000      4380         341\n",
       "55       4      1024      5000      4478         256\n",
       "56       1      1024   5000000   4998976        1024\n",
       "57       2      1024   5000000   4999226         512\n",
       "58       3      1024   5000000   4999380         341\n",
       "59       4      1024   5000000   4999473         256\n",
       "60       1     64000         5         0           5\n",
       "61       2     64000         5         0           5\n",
       "62       3     64000         5         0           5\n",
       "63       4     64000         5         0           5\n",
       "64       1     64000        50         0          50\n",
       "65       2     64000        50         0          50\n",
       "66       3     64000        50         0          50\n",
       "67       4     64000        50         0          50\n",
       "68       1     64000       500         2         498\n",
       "69       2     64000       500         0         496\n",
       "70       3     64000       500         0         493\n",
       "71       4     64000       500         0         492\n",
       "72       1     64000      5000       171        4829\n",
       "73       2     64000      5000        38        4633\n",
       "74       3     64000      5000        18        4454\n",
       "75       4     64000      5000         7        4285\n",
       "76       1     64000   5000000   4936000       64000\n",
       "77       2     64000   5000000   4952087       32000\n",
       "78       3     64000   5000000   4960938       21333\n",
       "79       4     64000   5000000   4966696       16000\n",
       "80       1  16000000         5         0           5\n",
       "81       2  16000000         5         0           5\n",
       "82       3  16000000         5         0           5\n",
       "83       4  16000000         5         0           5\n",
       "84       1  16000000        50         0          50\n",
       "85       2  16000000        50         0          50\n",
       "86       3  16000000        50         0          50\n",
       "87       4  16000000        50         0          50\n",
       "88       1  16000000       500         0         500\n",
       "89       2  16000000       500         0         500\n",
       "90       3  16000000       500         0         500\n",
       "91       4  16000000       500         0         500\n",
       "92       1  16000000      5000         0        5000\n",
       "93       2  16000000      5000         0        4998\n",
       "94       3  16000000      5000         0        4997\n",
       "95       4  16000000      5000         0        4995\n",
       "96       1  16000000   5000000    705054     4294946\n",
       "97       2  16000000   5000000    418262     3718339\n",
       "98       3  16000000   5000000    367528     3244642\n",
       "99       4  16000000   5000000    384628     2853694"
      ]
     },
     "metadata": {},
     "output_type": "display_data"
    }
   ],
   "source": [
    "with pd.option_context(\"display.max_rows\", 1000):\n",
    "    display(table_res_2)"
   ]
  },
  {
   "cell_type": "markdown",
   "metadata": {},
   "source": [
    "**Вывод**:\n",
    "\n",
    "При правильном выборе размера фильтра в среднем происходит уменьшение ложноположительного срабатывания с добавлением hash, когда мы считаем несколько hash функций для одной строки\n",
    "\n",
    "Но при большом количество подсчета hash функций может произойти обратное, так как существует большая вероятность, что два разных значения посчитаются различными hash функциями одинаково"
   ]
  },
  {
   "cell_type": "markdown",
   "metadata": {},
   "source": [
    "# Задание 3"
   ]
  },
  {
   "cell_type": "code",
   "execution_count": 12,
   "metadata": {},
   "outputs": [],
   "source": [
    "from counter_bloom_filter import ConutersBloomFilter"
   ]
  },
  {
   "cell_type": "markdown",
   "metadata": {},
   "source": [
    "Определим новые параметры для фильтра (иначе слишком много тестовых значений)"
   ]
  },
  {
   "cell_type": "code",
   "execution_count": 13,
   "metadata": {},
   "outputs": [],
   "source": [
    "counters_bloom_sizes = [1024, 1600000]\n",
    "counters_set_sizes = [500, 5000, 5000000]\n",
    "counters_count_hashes = [1, 3]\n",
    "counters_nums = [1, 3, 5]"
   ]
  },
  {
   "cell_type": "markdown",
   "metadata": {},
   "source": [
    "Протестируем реализованный фильтр"
   ]
  },
  {
   "cell_type": "code",
   "execution_count": 15,
   "metadata": {},
   "outputs": [
    {
     "data": {
      "application/vnd.jupyter.widget-view+json": {
       "model_id": "9bbae3b912314879b173189c7c63b42b",
       "version_major": 2,
       "version_minor": 0
      },
      "text/plain": [
       "bloom 1024 with 500 seq, 1 hashes, 1 counters:   0%|          | 0/500 [00:00<?, ?it/s]"
      ]
     },
     "metadata": {},
     "output_type": "display_data"
    },
    {
     "data": {
      "application/vnd.jupyter.widget-view+json": {
       "model_id": "b44dbfea5f9e4a3eac24760b8b67d82e",
       "version_major": 2,
       "version_minor": 0
      },
      "text/plain": [
       "bloom 1024 with 500 seq, 1 hashes, 3 counters:   0%|          | 0/500 [00:00<?, ?it/s]"
      ]
     },
     "metadata": {},
     "output_type": "display_data"
    },
    {
     "data": {
      "application/vnd.jupyter.widget-view+json": {
       "model_id": "0d2e37eda9024b818dc156ac6f9b0e78",
       "version_major": 2,
       "version_minor": 0
      },
      "text/plain": [
       "bloom 1024 with 500 seq, 1 hashes, 5 counters:   0%|          | 0/500 [00:00<?, ?it/s]"
      ]
     },
     "metadata": {},
     "output_type": "display_data"
    },
    {
     "data": {
      "application/vnd.jupyter.widget-view+json": {
       "model_id": "83b9857c6ac54af0bbe68f8d804b6639",
       "version_major": 2,
       "version_minor": 0
      },
      "text/plain": [
       "bloom 1024 with 500 seq, 3 hashes, 1 counters:   0%|          | 0/500 [00:00<?, ?it/s]"
      ]
     },
     "metadata": {},
     "output_type": "display_data"
    },
    {
     "data": {
      "application/vnd.jupyter.widget-view+json": {
       "model_id": "61aaf8e039694b418f1fa3769183bbf5",
       "version_major": 2,
       "version_minor": 0
      },
      "text/plain": [
       "bloom 1024 with 500 seq, 3 hashes, 3 counters:   0%|          | 0/500 [00:00<?, ?it/s]"
      ]
     },
     "metadata": {},
     "output_type": "display_data"
    },
    {
     "data": {
      "application/vnd.jupyter.widget-view+json": {
       "model_id": "125ecd2626b2451aa4022d2051e0b0f4",
       "version_major": 2,
       "version_minor": 0
      },
      "text/plain": [
       "bloom 1024 with 500 seq, 3 hashes, 5 counters:   0%|          | 0/500 [00:00<?, ?it/s]"
      ]
     },
     "metadata": {},
     "output_type": "display_data"
    },
    {
     "data": {
      "application/vnd.jupyter.widget-view+json": {
       "model_id": "66f8e5bb00344745a76539ba03cd96ef",
       "version_major": 2,
       "version_minor": 0
      },
      "text/plain": [
       "bloom 1024 with 5000 seq, 1 hashes, 1 counters:   0%|          | 0/5000 [00:00<?, ?it/s]"
      ]
     },
     "metadata": {},
     "output_type": "display_data"
    },
    {
     "data": {
      "application/vnd.jupyter.widget-view+json": {
       "model_id": "f3cdcf3102a14f00bc854fdfc278a818",
       "version_major": 2,
       "version_minor": 0
      },
      "text/plain": [
       "bloom 1024 with 5000 seq, 1 hashes, 3 counters:   0%|          | 0/5000 [00:00<?, ?it/s]"
      ]
     },
     "metadata": {},
     "output_type": "display_data"
    },
    {
     "data": {
      "application/vnd.jupyter.widget-view+json": {
       "model_id": "47702abf8b1c42b5ade2a03c9f7cffdb",
       "version_major": 2,
       "version_minor": 0
      },
      "text/plain": [
       "bloom 1024 with 5000 seq, 1 hashes, 5 counters:   0%|          | 0/5000 [00:00<?, ?it/s]"
      ]
     },
     "metadata": {},
     "output_type": "display_data"
    },
    {
     "data": {
      "application/vnd.jupyter.widget-view+json": {
       "model_id": "dccbfa21aff542adbf8936718b969ed7",
       "version_major": 2,
       "version_minor": 0
      },
      "text/plain": [
       "bloom 1024 with 5000 seq, 3 hashes, 1 counters:   0%|          | 0/5000 [00:00<?, ?it/s]"
      ]
     },
     "metadata": {},
     "output_type": "display_data"
    },
    {
     "data": {
      "application/vnd.jupyter.widget-view+json": {
       "model_id": "deae6db9f64b44c9ae0e2114cf5992e2",
       "version_major": 2,
       "version_minor": 0
      },
      "text/plain": [
       "bloom 1024 with 5000 seq, 3 hashes, 3 counters:   0%|          | 0/5000 [00:00<?, ?it/s]"
      ]
     },
     "metadata": {},
     "output_type": "display_data"
    },
    {
     "data": {
      "application/vnd.jupyter.widget-view+json": {
       "model_id": "492cc9956d7f427aadf47a0cd8e2c02e",
       "version_major": 2,
       "version_minor": 0
      },
      "text/plain": [
       "bloom 1024 with 5000 seq, 3 hashes, 5 counters:   0%|          | 0/5000 [00:00<?, ?it/s]"
      ]
     },
     "metadata": {},
     "output_type": "display_data"
    },
    {
     "data": {
      "application/vnd.jupyter.widget-view+json": {
       "model_id": "c6ea4be6ef9d4f198f2ab3dfb1bb0bc4",
       "version_major": 2,
       "version_minor": 0
      },
      "text/plain": [
       "bloom 1024 with 5000000 seq, 1 hashes, 1 counters:   0%|          | 0/5000000 [00:00<?, ?it/s]"
      ]
     },
     "metadata": {},
     "output_type": "display_data"
    },
    {
     "data": {
      "application/vnd.jupyter.widget-view+json": {
       "model_id": "543a291b1ae24132acfe82c0488853a2",
       "version_major": 2,
       "version_minor": 0
      },
      "text/plain": [
       "bloom 1024 with 5000000 seq, 1 hashes, 3 counters:   0%|          | 0/5000000 [00:00<?, ?it/s]"
      ]
     },
     "metadata": {},
     "output_type": "display_data"
    },
    {
     "data": {
      "application/vnd.jupyter.widget-view+json": {
       "model_id": "74d5adcc1bc14720b7f80082147c10f9",
       "version_major": 2,
       "version_minor": 0
      },
      "text/plain": [
       "bloom 1024 with 5000000 seq, 1 hashes, 5 counters:   0%|          | 0/5000000 [00:00<?, ?it/s]"
      ]
     },
     "metadata": {},
     "output_type": "display_data"
    },
    {
     "data": {
      "application/vnd.jupyter.widget-view+json": {
       "model_id": "7e6330d132ff408a8b9de87c2f7d6fe9",
       "version_major": 2,
       "version_minor": 0
      },
      "text/plain": [
       "bloom 1024 with 5000000 seq, 3 hashes, 1 counters:   0%|          | 0/5000000 [00:00<?, ?it/s]"
      ]
     },
     "metadata": {},
     "output_type": "display_data"
    },
    {
     "data": {
      "application/vnd.jupyter.widget-view+json": {
       "model_id": "6b322bbfdd214214a73eb4f345dcdd64",
       "version_major": 2,
       "version_minor": 0
      },
      "text/plain": [
       "bloom 1024 with 5000000 seq, 3 hashes, 3 counters:   0%|          | 0/5000000 [00:00<?, ?it/s]"
      ]
     },
     "metadata": {},
     "output_type": "display_data"
    },
    {
     "data": {
      "application/vnd.jupyter.widget-view+json": {
       "model_id": "62d6bff029314ca288e7e73fe8283cfd",
       "version_major": 2,
       "version_minor": 0
      },
      "text/plain": [
       "bloom 1024 with 5000000 seq, 3 hashes, 5 counters:   0%|          | 0/5000000 [00:00<?, ?it/s]"
      ]
     },
     "metadata": {},
     "output_type": "display_data"
    },
    {
     "data": {
      "application/vnd.jupyter.widget-view+json": {
       "model_id": "feb2bfc0a83341a5b55c3a052f3deb47",
       "version_major": 2,
       "version_minor": 0
      },
      "text/plain": [
       "bloom 1600000 with 500 seq, 1 hashes, 1 counters:   0%|          | 0/500 [00:00<?, ?it/s]"
      ]
     },
     "metadata": {},
     "output_type": "display_data"
    },
    {
     "data": {
      "application/vnd.jupyter.widget-view+json": {
       "model_id": "9dc0b5c3dbc041b4b708faa9e73917d7",
       "version_major": 2,
       "version_minor": 0
      },
      "text/plain": [
       "bloom 1600000 with 500 seq, 1 hashes, 3 counters:   0%|          | 0/500 [00:00<?, ?it/s]"
      ]
     },
     "metadata": {},
     "output_type": "display_data"
    },
    {
     "data": {
      "application/vnd.jupyter.widget-view+json": {
       "model_id": "ff5051b8d2614a8ab060a4dcae0d6ec6",
       "version_major": 2,
       "version_minor": 0
      },
      "text/plain": [
       "bloom 1600000 with 500 seq, 1 hashes, 5 counters:   0%|          | 0/500 [00:00<?, ?it/s]"
      ]
     },
     "metadata": {},
     "output_type": "display_data"
    },
    {
     "data": {
      "application/vnd.jupyter.widget-view+json": {
       "model_id": "24a589f63edc42168ad3fc0672d8e7b9",
       "version_major": 2,
       "version_minor": 0
      },
      "text/plain": [
       "bloom 1600000 with 500 seq, 3 hashes, 1 counters:   0%|          | 0/500 [00:00<?, ?it/s]"
      ]
     },
     "metadata": {},
     "output_type": "display_data"
    },
    {
     "data": {
      "application/vnd.jupyter.widget-view+json": {
       "model_id": "32f5464cb48446c4b1cda6dfdf6a0cb9",
       "version_major": 2,
       "version_minor": 0
      },
      "text/plain": [
       "bloom 1600000 with 500 seq, 3 hashes, 3 counters:   0%|          | 0/500 [00:00<?, ?it/s]"
      ]
     },
     "metadata": {},
     "output_type": "display_data"
    },
    {
     "data": {
      "application/vnd.jupyter.widget-view+json": {
       "model_id": "35644968fe89422e9eda2c3b2628bbf3",
       "version_major": 2,
       "version_minor": 0
      },
      "text/plain": [
       "bloom 1600000 with 500 seq, 3 hashes, 5 counters:   0%|          | 0/500 [00:00<?, ?it/s]"
      ]
     },
     "metadata": {},
     "output_type": "display_data"
    },
    {
     "data": {
      "application/vnd.jupyter.widget-view+json": {
       "model_id": "eb3780c2d8ad4178b38cd6086fcc2924",
       "version_major": 2,
       "version_minor": 0
      },
      "text/plain": [
       "bloom 1600000 with 5000 seq, 1 hashes, 1 counters:   0%|          | 0/5000 [00:00<?, ?it/s]"
      ]
     },
     "metadata": {},
     "output_type": "display_data"
    },
    {
     "data": {
      "application/vnd.jupyter.widget-view+json": {
       "model_id": "7d1c6cbf12254179af73d08971188e6c",
       "version_major": 2,
       "version_minor": 0
      },
      "text/plain": [
       "bloom 1600000 with 5000 seq, 1 hashes, 3 counters:   0%|          | 0/5000 [00:00<?, ?it/s]"
      ]
     },
     "metadata": {},
     "output_type": "display_data"
    },
    {
     "data": {
      "application/vnd.jupyter.widget-view+json": {
       "model_id": "9be77f68191148f9bd3e3f57b52af6d0",
       "version_major": 2,
       "version_minor": 0
      },
      "text/plain": [
       "bloom 1600000 with 5000 seq, 1 hashes, 5 counters:   0%|          | 0/5000 [00:00<?, ?it/s]"
      ]
     },
     "metadata": {},
     "output_type": "display_data"
    },
    {
     "data": {
      "application/vnd.jupyter.widget-view+json": {
       "model_id": "4cd6a718afd1499faf961498170d9003",
       "version_major": 2,
       "version_minor": 0
      },
      "text/plain": [
       "bloom 1600000 with 5000 seq, 3 hashes, 1 counters:   0%|          | 0/5000 [00:00<?, ?it/s]"
      ]
     },
     "metadata": {},
     "output_type": "display_data"
    },
    {
     "data": {
      "application/vnd.jupyter.widget-view+json": {
       "model_id": "c7f736fd1b704ce78f38d0ce474b07fe",
       "version_major": 2,
       "version_minor": 0
      },
      "text/plain": [
       "bloom 1600000 with 5000 seq, 3 hashes, 3 counters:   0%|          | 0/5000 [00:00<?, ?it/s]"
      ]
     },
     "metadata": {},
     "output_type": "display_data"
    },
    {
     "data": {
      "application/vnd.jupyter.widget-view+json": {
       "model_id": "84849e57ee8143bfb3484a0db8fd0b6a",
       "version_major": 2,
       "version_minor": 0
      },
      "text/plain": [
       "bloom 1600000 with 5000 seq, 3 hashes, 5 counters:   0%|          | 0/5000 [00:00<?, ?it/s]"
      ]
     },
     "metadata": {},
     "output_type": "display_data"
    },
    {
     "data": {
      "application/vnd.jupyter.widget-view+json": {
       "model_id": "4a8b355ff1c9486cb802be0f25f80e09",
       "version_major": 2,
       "version_minor": 0
      },
      "text/plain": [
       "bloom 1600000 with 5000000 seq, 1 hashes, 1 counters:   0%|          | 0/5000000 [00:00<?, ?it/s]"
      ]
     },
     "metadata": {},
     "output_type": "display_data"
    },
    {
     "data": {
      "application/vnd.jupyter.widget-view+json": {
       "model_id": "09e11abf991748fcb03b82a7e45f6aca",
       "version_major": 2,
       "version_minor": 0
      },
      "text/plain": [
       "bloom 1600000 with 5000000 seq, 1 hashes, 3 counters:   0%|          | 0/5000000 [00:00<?, ?it/s]"
      ]
     },
     "metadata": {},
     "output_type": "display_data"
    },
    {
     "data": {
      "application/vnd.jupyter.widget-view+json": {
       "model_id": "c19cf767e10347f29f97bcd33e6cc089",
       "version_major": 2,
       "version_minor": 0
      },
      "text/plain": [
       "bloom 1600000 with 5000000 seq, 1 hashes, 5 counters:   0%|          | 0/5000000 [00:00<?, ?it/s]"
      ]
     },
     "metadata": {},
     "output_type": "display_data"
    },
    {
     "data": {
      "application/vnd.jupyter.widget-view+json": {
       "model_id": "20d3d27a89344787ab9ce1c532e440c3",
       "version_major": 2,
       "version_minor": 0
      },
      "text/plain": [
       "bloom 1600000 with 5000000 seq, 3 hashes, 1 counters:   0%|          | 0/5000000 [00:00<?, ?it/s]"
      ]
     },
     "metadata": {},
     "output_type": "display_data"
    },
    {
     "data": {
      "application/vnd.jupyter.widget-view+json": {
       "model_id": "112c419f8b7a455eb8c5159db718a676",
       "version_major": 2,
       "version_minor": 0
      },
      "text/plain": [
       "bloom 1600000 with 5000000 seq, 3 hashes, 3 counters:   0%|          | 0/5000000 [00:00<?, ?it/s]"
      ]
     },
     "metadata": {},
     "output_type": "display_data"
    },
    {
     "data": {
      "application/vnd.jupyter.widget-view+json": {
       "model_id": "bcfa896af75f44fea74879d43e77ad03",
       "version_major": 2,
       "version_minor": 0
      },
      "text/plain": [
       "bloom 1600000 with 5000000 seq, 3 hashes, 5 counters:   0%|          | 0/5000000 [00:00<?, ?it/s]"
      ]
     },
     "metadata": {},
     "output_type": "display_data"
    }
   ],
   "source": [
    "matrix_res_counters = np.zeros(\n",
    "    (len(counters_bloom_sizes) * len(counters_set_sizes) * len(counters_count_hashes) * len(counters_nums), 6),\n",
    "    dtype=int\n",
    ")\n",
    "\n",
    "curent_row_idx = 0 \n",
    "for b_size in counters_bloom_sizes:\n",
    "    for set_size in counters_set_sizes:\n",
    "        for k_hash in counters_count_hashes:\n",
    "            for c_nums in counters_nums:\n",
    "                matrix_res_counters[curent_row_idx, 0] = b_size\n",
    "                matrix_res_counters[curent_row_idx, 1] = set_size\n",
    "                matrix_res_counters[curent_row_idx, 2] = k_hash\n",
    "                matrix_res_counters[curent_row_idx, 3] = c_nums\n",
    "\n",
    "                b_filter = ConutersBloomFilter(hash_num=k_hash, filter_size=b_size, counter_num=c_nums)\n",
    "\n",
    "                with open(f'bloom_{set_size}_seq.txt', 'r') as f:\n",
    "                    s_iter = tqdm(\n",
    "                        (line for line in f),\n",
    "                        total=set_size,\n",
    "                        desc=f'bloom {b_size} with {set_size} seq, {k_hash} hashes, {c_nums} counters'\n",
    "                    )\n",
    "                    for s in s_iter:            \n",
    "                        if b_filter.get(s):\n",
    "                            matrix_res_counters[curent_row_idx, 4] += 1\n",
    "\n",
    "                        b_filter.put(s)\n",
    "                \n",
    "                matrix_res_counters[curent_row_idx, 5] = b_filter.size()\n",
    "\n",
    "                curent_row_idx += 1"
   ]
  },
  {
   "cell_type": "code",
   "execution_count": 16,
   "metadata": {},
   "outputs": [],
   "source": [
    "table_res_3 = pd.DataFrame(matrix_res_counters, \n",
    "                         columns=['bf_size', 'set_size', 'k_hash', 'count_num', 'fp_count', 'ones_count'])\n",
    "table_res_3.to_csv('result_task_3.csv', index=False)"
   ]
  },
  {
   "cell_type": "code",
   "execution_count": 17,
   "metadata": {},
   "outputs": [
    {
     "data": {
      "text/html": [
       "<div>\n",
       "<style scoped>\n",
       "    .dataframe tbody tr th:only-of-type {\n",
       "        vertical-align: middle;\n",
       "    }\n",
       "\n",
       "    .dataframe tbody tr th {\n",
       "        vertical-align: top;\n",
       "    }\n",
       "\n",
       "    .dataframe thead th {\n",
       "        text-align: right;\n",
       "    }\n",
       "</style>\n",
       "<table border=\"1\" class=\"dataframe\">\n",
       "  <thead>\n",
       "    <tr style=\"text-align: right;\">\n",
       "      <th></th>\n",
       "      <th>bf_size</th>\n",
       "      <th>set_size</th>\n",
       "      <th>k_hash</th>\n",
       "      <th>count_num</th>\n",
       "      <th>fp_count</th>\n",
       "      <th>ones_count</th>\n",
       "    </tr>\n",
       "  </thead>\n",
       "  <tbody>\n",
       "    <tr>\n",
       "      <th>0</th>\n",
       "      <td>1024</td>\n",
       "      <td>500</td>\n",
       "      <td>1</td>\n",
       "      <td>1</td>\n",
       "      <td>105</td>\n",
       "      <td>395</td>\n",
       "    </tr>\n",
       "    <tr>\n",
       "      <th>1</th>\n",
       "      <td>1024</td>\n",
       "      <td>500</td>\n",
       "      <td>1</td>\n",
       "      <td>3</td>\n",
       "      <td>105</td>\n",
       "      <td>497</td>\n",
       "    </tr>\n",
       "    <tr>\n",
       "      <th>2</th>\n",
       "      <td>1024</td>\n",
       "      <td>500</td>\n",
       "      <td>1</td>\n",
       "      <td>5</td>\n",
       "      <td>105</td>\n",
       "      <td>500</td>\n",
       "    </tr>\n",
       "    <tr>\n",
       "      <th>3</th>\n",
       "      <td>1024</td>\n",
       "      <td>500</td>\n",
       "      <td>3</td>\n",
       "      <td>1</td>\n",
       "      <td>85</td>\n",
       "      <td>264</td>\n",
       "    </tr>\n",
       "    <tr>\n",
       "      <th>4</th>\n",
       "      <td>1024</td>\n",
       "      <td>500</td>\n",
       "      <td>3</td>\n",
       "      <td>3</td>\n",
       "      <td>85</td>\n",
       "      <td>473</td>\n",
       "    </tr>\n",
       "    <tr>\n",
       "      <th>5</th>\n",
       "      <td>1024</td>\n",
       "      <td>500</td>\n",
       "      <td>3</td>\n",
       "      <td>5</td>\n",
       "      <td>85</td>\n",
       "      <td>500</td>\n",
       "    </tr>\n",
       "    <tr>\n",
       "      <th>6</th>\n",
       "      <td>1024</td>\n",
       "      <td>5000</td>\n",
       "      <td>1</td>\n",
       "      <td>1</td>\n",
       "      <td>3985</td>\n",
       "      <td>1015</td>\n",
       "    </tr>\n",
       "    <tr>\n",
       "      <th>7</th>\n",
       "      <td>1024</td>\n",
       "      <td>5000</td>\n",
       "      <td>1</td>\n",
       "      <td>3</td>\n",
       "      <td>3985</td>\n",
       "      <td>2891</td>\n",
       "    </tr>\n",
       "    <tr>\n",
       "      <th>8</th>\n",
       "      <td>1024</td>\n",
       "      <td>5000</td>\n",
       "      <td>1</td>\n",
       "      <td>5</td>\n",
       "      <td>3985</td>\n",
       "      <td>4767</td>\n",
       "    </tr>\n",
       "    <tr>\n",
       "      <th>9</th>\n",
       "      <td>1024</td>\n",
       "      <td>5000</td>\n",
       "      <td>3</td>\n",
       "      <td>1</td>\n",
       "      <td>4380</td>\n",
       "      <td>341</td>\n",
       "    </tr>\n",
       "    <tr>\n",
       "      <th>10</th>\n",
       "      <td>1024</td>\n",
       "      <td>5000</td>\n",
       "      <td>3</td>\n",
       "      <td>3</td>\n",
       "      <td>4380</td>\n",
       "      <td>1024</td>\n",
       "    </tr>\n",
       "    <tr>\n",
       "      <th>11</th>\n",
       "      <td>1024</td>\n",
       "      <td>5000</td>\n",
       "      <td>3</td>\n",
       "      <td>5</td>\n",
       "      <td>4380</td>\n",
       "      <td>2387</td>\n",
       "    </tr>\n",
       "    <tr>\n",
       "      <th>12</th>\n",
       "      <td>1024</td>\n",
       "      <td>5000000</td>\n",
       "      <td>1</td>\n",
       "      <td>1</td>\n",
       "      <td>4998976</td>\n",
       "      <td>1024</td>\n",
       "    </tr>\n",
       "    <tr>\n",
       "      <th>13</th>\n",
       "      <td>1024</td>\n",
       "      <td>5000000</td>\n",
       "      <td>1</td>\n",
       "      <td>3</td>\n",
       "      <td>4998976</td>\n",
       "      <td>3072</td>\n",
       "    </tr>\n",
       "    <tr>\n",
       "      <th>14</th>\n",
       "      <td>1024</td>\n",
       "      <td>5000000</td>\n",
       "      <td>1</td>\n",
       "      <td>5</td>\n",
       "      <td>4998976</td>\n",
       "      <td>7168</td>\n",
       "    </tr>\n",
       "    <tr>\n",
       "      <th>15</th>\n",
       "      <td>1024</td>\n",
       "      <td>5000000</td>\n",
       "      <td>3</td>\n",
       "      <td>1</td>\n",
       "      <td>4999380</td>\n",
       "      <td>341</td>\n",
       "    </tr>\n",
       "    <tr>\n",
       "      <th>16</th>\n",
       "      <td>1024</td>\n",
       "      <td>5000000</td>\n",
       "      <td>3</td>\n",
       "      <td>3</td>\n",
       "      <td>4999380</td>\n",
       "      <td>1024</td>\n",
       "    </tr>\n",
       "    <tr>\n",
       "      <th>17</th>\n",
       "      <td>1024</td>\n",
       "      <td>5000000</td>\n",
       "      <td>3</td>\n",
       "      <td>5</td>\n",
       "      <td>4999380</td>\n",
       "      <td>2389</td>\n",
       "    </tr>\n",
       "    <tr>\n",
       "      <th>18</th>\n",
       "      <td>1600000</td>\n",
       "      <td>500</td>\n",
       "      <td>1</td>\n",
       "      <td>1</td>\n",
       "      <td>0</td>\n",
       "      <td>500</td>\n",
       "    </tr>\n",
       "    <tr>\n",
       "      <th>19</th>\n",
       "      <td>1600000</td>\n",
       "      <td>500</td>\n",
       "      <td>1</td>\n",
       "      <td>3</td>\n",
       "      <td>0</td>\n",
       "      <td>500</td>\n",
       "    </tr>\n",
       "    <tr>\n",
       "      <th>20</th>\n",
       "      <td>1600000</td>\n",
       "      <td>500</td>\n",
       "      <td>1</td>\n",
       "      <td>5</td>\n",
       "      <td>0</td>\n",
       "      <td>500</td>\n",
       "    </tr>\n",
       "    <tr>\n",
       "      <th>21</th>\n",
       "      <td>1600000</td>\n",
       "      <td>500</td>\n",
       "      <td>3</td>\n",
       "      <td>1</td>\n",
       "      <td>0</td>\n",
       "      <td>500</td>\n",
       "    </tr>\n",
       "    <tr>\n",
       "      <th>22</th>\n",
       "      <td>1600000</td>\n",
       "      <td>500</td>\n",
       "      <td>3</td>\n",
       "      <td>3</td>\n",
       "      <td>0</td>\n",
       "      <td>500</td>\n",
       "    </tr>\n",
       "    <tr>\n",
       "      <th>23</th>\n",
       "      <td>1600000</td>\n",
       "      <td>500</td>\n",
       "      <td>3</td>\n",
       "      <td>5</td>\n",
       "      <td>0</td>\n",
       "      <td>500</td>\n",
       "    </tr>\n",
       "    <tr>\n",
       "      <th>24</th>\n",
       "      <td>1600000</td>\n",
       "      <td>5000</td>\n",
       "      <td>1</td>\n",
       "      <td>1</td>\n",
       "      <td>9</td>\n",
       "      <td>4991</td>\n",
       "    </tr>\n",
       "    <tr>\n",
       "      <th>25</th>\n",
       "      <td>1600000</td>\n",
       "      <td>5000</td>\n",
       "      <td>1</td>\n",
       "      <td>3</td>\n",
       "      <td>9</td>\n",
       "      <td>5000</td>\n",
       "    </tr>\n",
       "    <tr>\n",
       "      <th>26</th>\n",
       "      <td>1600000</td>\n",
       "      <td>5000</td>\n",
       "      <td>1</td>\n",
       "      <td>5</td>\n",
       "      <td>9</td>\n",
       "      <td>5000</td>\n",
       "    </tr>\n",
       "    <tr>\n",
       "      <th>27</th>\n",
       "      <td>1600000</td>\n",
       "      <td>5000</td>\n",
       "      <td>3</td>\n",
       "      <td>1</td>\n",
       "      <td>0</td>\n",
       "      <td>4976</td>\n",
       "    </tr>\n",
       "    <tr>\n",
       "      <th>28</th>\n",
       "      <td>1600000</td>\n",
       "      <td>5000</td>\n",
       "      <td>3</td>\n",
       "      <td>3</td>\n",
       "      <td>0</td>\n",
       "      <td>5000</td>\n",
       "    </tr>\n",
       "    <tr>\n",
       "      <th>29</th>\n",
       "      <td>1600000</td>\n",
       "      <td>5000</td>\n",
       "      <td>3</td>\n",
       "      <td>5</td>\n",
       "      <td>0</td>\n",
       "      <td>5000</td>\n",
       "    </tr>\n",
       "    <tr>\n",
       "      <th>30</th>\n",
       "      <td>1600000</td>\n",
       "      <td>5000000</td>\n",
       "      <td>1</td>\n",
       "      <td>1</td>\n",
       "      <td>3470401</td>\n",
       "      <td>1529599</td>\n",
       "    </tr>\n",
       "    <tr>\n",
       "      <th>31</th>\n",
       "      <td>1600000</td>\n",
       "      <td>5000000</td>\n",
       "      <td>1</td>\n",
       "      <td>3</td>\n",
       "      <td>3470401</td>\n",
       "      <td>3806878</td>\n",
       "    </tr>\n",
       "    <tr>\n",
       "      <th>32</th>\n",
       "      <td>1600000</td>\n",
       "      <td>5000000</td>\n",
       "      <td>1</td>\n",
       "      <td>5</td>\n",
       "      <td>3470401</td>\n",
       "      <td>4965125</td>\n",
       "    </tr>\n",
       "    <tr>\n",
       "      <th>33</th>\n",
       "      <td>1600000</td>\n",
       "      <td>5000000</td>\n",
       "      <td>3</td>\n",
       "      <td>1</td>\n",
       "      <td>4022259</td>\n",
       "      <td>533285</td>\n",
       "    </tr>\n",
       "    <tr>\n",
       "      <th>34</th>\n",
       "      <td>1600000</td>\n",
       "      <td>5000000</td>\n",
       "      <td>3</td>\n",
       "      <td>3</td>\n",
       "      <td>4022259</td>\n",
       "      <td>1597034</td>\n",
       "    </tr>\n",
       "    <tr>\n",
       "      <th>35</th>\n",
       "      <td>1600000</td>\n",
       "      <td>5000000</td>\n",
       "      <td>3</td>\n",
       "      <td>5</td>\n",
       "      <td>4022259</td>\n",
       "      <td>3554707</td>\n",
       "    </tr>\n",
       "  </tbody>\n",
       "</table>\n",
       "</div>"
      ],
      "text/plain": [
       "    bf_size  set_size  k_hash  count_num  fp_count  ones_count\n",
       "0      1024       500       1          1       105         395\n",
       "1      1024       500       1          3       105         497\n",
       "2      1024       500       1          5       105         500\n",
       "3      1024       500       3          1        85         264\n",
       "4      1024       500       3          3        85         473\n",
       "5      1024       500       3          5        85         500\n",
       "6      1024      5000       1          1      3985        1015\n",
       "7      1024      5000       1          3      3985        2891\n",
       "8      1024      5000       1          5      3985        4767\n",
       "9      1024      5000       3          1      4380         341\n",
       "10     1024      5000       3          3      4380        1024\n",
       "11     1024      5000       3          5      4380        2387\n",
       "12     1024   5000000       1          1   4998976        1024\n",
       "13     1024   5000000       1          3   4998976        3072\n",
       "14     1024   5000000       1          5   4998976        7168\n",
       "15     1024   5000000       3          1   4999380         341\n",
       "16     1024   5000000       3          3   4999380        1024\n",
       "17     1024   5000000       3          5   4999380        2389\n",
       "18  1600000       500       1          1         0         500\n",
       "19  1600000       500       1          3         0         500\n",
       "20  1600000       500       1          5         0         500\n",
       "21  1600000       500       3          1         0         500\n",
       "22  1600000       500       3          3         0         500\n",
       "23  1600000       500       3          5         0         500\n",
       "24  1600000      5000       1          1         9        4991\n",
       "25  1600000      5000       1          3         9        5000\n",
       "26  1600000      5000       1          5         9        5000\n",
       "27  1600000      5000       3          1         0        4976\n",
       "28  1600000      5000       3          3         0        5000\n",
       "29  1600000      5000       3          5         0        5000\n",
       "30  1600000   5000000       1          1   3470401     1529599\n",
       "31  1600000   5000000       1          3   3470401     3806878\n",
       "32  1600000   5000000       1          5   3470401     4965125\n",
       "33  1600000   5000000       3          1   4022259      533285\n",
       "34  1600000   5000000       3          3   4022259     1597034\n",
       "35  1600000   5000000       3          5   4022259     3554707"
      ]
     },
     "metadata": {},
     "output_type": "display_data"
    }
   ],
   "source": [
    "with pd.option_context(\"display.max_rows\", 1000):\n",
    "    display(table_res_3)"
   ]
  },
  {
   "cell_type": "markdown",
   "metadata": {},
   "source": [
    "**Вывод**:\n",
    "\n",
    "\n",
    "При count_thres (пороге) 1 данный фильтр работает, как простой bloomFilter\n",
    "\n",
    "Порог должен больше, чем минимальное количество встречаемости одного ключа, иначе этот ключ не будет считаться, даже если мы его добавим\n",
    "\n",
    "Повышая порог мы моем уменьшать вероятность ошибки. Ведение счетчика позводит нам не только добавлять элементы, но и добавлять."
   ]
  },
  {
   "cell_type": "markdown",
   "metadata": {},
   "source": [
    "# Задание 4"
   ]
  },
  {
   "cell_type": "code",
   "execution_count": 18,
   "metadata": {},
   "outputs": [],
   "source": [
    "from hyper_log_log import HyperLogLog"
   ]
  },
  {
   "cell_type": "markdown",
   "metadata": {},
   "source": [
    "Протестируем реализованный класс"
   ]
  },
  {
   "cell_type": "code",
   "execution_count": 19,
   "metadata": {},
   "outputs": [
    {
     "data": {
      "application/vnd.jupyter.widget-view+json": {
       "model_id": "4d64cff623a245a98e5052c4a14ecae2",
       "version_major": 2,
       "version_minor": 0
      },
      "text/plain": [
       "precision 4 with 500 seq:   0%|          | 0/500 [00:00<?, ?it/s]"
      ]
     },
     "metadata": {},
     "output_type": "display_data"
    },
    {
     "data": {
      "application/vnd.jupyter.widget-view+json": {
       "model_id": "ac9a149e8f514462ba0fddd4a523c95e",
       "version_major": 2,
       "version_minor": 0
      },
      "text/plain": [
       "precision 4 with 5000 seq:   0%|          | 0/5000 [00:00<?, ?it/s]"
      ]
     },
     "metadata": {},
     "output_type": "display_data"
    },
    {
     "data": {
      "application/vnd.jupyter.widget-view+json": {
       "model_id": "f96cfeca4eac4614bd329688671e931f",
       "version_major": 2,
       "version_minor": 0
      },
      "text/plain": [
       "precision 4 with 5000000 seq:   0%|          | 0/5000000 [00:00<?, ?it/s]"
      ]
     },
     "metadata": {},
     "output_type": "display_data"
    },
    {
     "data": {
      "application/vnd.jupyter.widget-view+json": {
       "model_id": "865cf3bd9afe404ba993face7014a811",
       "version_major": 2,
       "version_minor": 0
      },
      "text/plain": [
       "precision 6 with 500 seq:   0%|          | 0/500 [00:00<?, ?it/s]"
      ]
     },
     "metadata": {},
     "output_type": "display_data"
    },
    {
     "data": {
      "application/vnd.jupyter.widget-view+json": {
       "model_id": "dd493d359892447fa55311116efeb288",
       "version_major": 2,
       "version_minor": 0
      },
      "text/plain": [
       "precision 6 with 5000 seq:   0%|          | 0/5000 [00:00<?, ?it/s]"
      ]
     },
     "metadata": {},
     "output_type": "display_data"
    },
    {
     "data": {
      "application/vnd.jupyter.widget-view+json": {
       "model_id": "9d16615f14754c88ad9425a88f47ed53",
       "version_major": 2,
       "version_minor": 0
      },
      "text/plain": [
       "precision 6 with 5000000 seq:   0%|          | 0/5000000 [00:00<?, ?it/s]"
      ]
     },
     "metadata": {},
     "output_type": "display_data"
    },
    {
     "data": {
      "application/vnd.jupyter.widget-view+json": {
       "model_id": "74caf129f98445eab0dadf4d236ab365",
       "version_major": 2,
       "version_minor": 0
      },
      "text/plain": [
       "precision 8 with 500 seq:   0%|          | 0/500 [00:00<?, ?it/s]"
      ]
     },
     "metadata": {},
     "output_type": "display_data"
    },
    {
     "data": {
      "application/vnd.jupyter.widget-view+json": {
       "model_id": "39c9e3a51e01404b89767656deb731c3",
       "version_major": 2,
       "version_minor": 0
      },
      "text/plain": [
       "precision 8 with 5000 seq:   0%|          | 0/5000 [00:00<?, ?it/s]"
      ]
     },
     "metadata": {},
     "output_type": "display_data"
    },
    {
     "data": {
      "application/vnd.jupyter.widget-view+json": {
       "model_id": "75fbe3c7a8d9469ea596ddcc5561eec2",
       "version_major": 2,
       "version_minor": 0
      },
      "text/plain": [
       "precision 8 with 5000000 seq:   0%|          | 0/5000000 [00:00<?, ?it/s]"
      ]
     },
     "metadata": {},
     "output_type": "display_data"
    },
    {
     "data": {
      "application/vnd.jupyter.widget-view+json": {
       "model_id": "5a1c6568bcd84322b183179ebce694ad",
       "version_major": 2,
       "version_minor": 0
      },
      "text/plain": [
       "precision 16 with 500 seq:   0%|          | 0/500 [00:00<?, ?it/s]"
      ]
     },
     "metadata": {},
     "output_type": "display_data"
    },
    {
     "data": {
      "application/vnd.jupyter.widget-view+json": {
       "model_id": "7930ebd41945405ba52a3368e69b7af7",
       "version_major": 2,
       "version_minor": 0
      },
      "text/plain": [
       "precision 16 with 5000 seq:   0%|          | 0/5000 [00:00<?, ?it/s]"
      ]
     },
     "metadata": {},
     "output_type": "display_data"
    },
    {
     "data": {
      "application/vnd.jupyter.widget-view+json": {
       "model_id": "87d30c828df7487493bcf76d52b9db22",
       "version_major": 2,
       "version_minor": 0
      },
      "text/plain": [
       "precision 16 with 5000000 seq:   0%|          | 0/5000000 [00:00<?, ?it/s]"
      ]
     },
     "metadata": {},
     "output_type": "display_data"
    }
   ],
   "source": [
    "# точность\n",
    "precision = [4, 6, 8, 16]\n",
    "set_sizes = [500, 5000, 5000000]\n",
    "\n",
    "matrix_res_hll = np.zeros(\n",
    "    (len(precision) * len(set_sizes), 3),\n",
    "    dtype=int\n",
    ")\n",
    "\n",
    "curent_row_idx = 0 \n",
    "for b in precision:\n",
    "    for set_size in set_sizes:\n",
    "        hll = HyperLogLog(b)\n",
    "        with open(f'bloom_{set_size}_seq.txt', 'r') as f:\n",
    "            s_iter = tqdm(\n",
    "                (line for line in f),\n",
    "                total=set_size,\n",
    "                desc=f'precision {b} with {set_size} seq'\n",
    "            )\n",
    "            for s in s_iter:          \n",
    "                hll.put(s)\n",
    "\n",
    "        matrix_res_hll[curent_row_idx, 0] = b\n",
    "        matrix_res_hll[curent_row_idx, 1] = set_size\n",
    "        matrix_res_hll[curent_row_idx, 2] = hll.est_size()\n",
    "\n",
    "        curent_row_idx += 1 "
   ]
  },
  {
   "cell_type": "code",
   "execution_count": 20,
   "metadata": {},
   "outputs": [
    {
     "data": {
      "text/html": [
       "<div>\n",
       "<style scoped>\n",
       "    .dataframe tbody tr th:only-of-type {\n",
       "        vertical-align: middle;\n",
       "    }\n",
       "\n",
       "    .dataframe tbody tr th {\n",
       "        vertical-align: top;\n",
       "    }\n",
       "\n",
       "    .dataframe thead th {\n",
       "        text-align: right;\n",
       "    }\n",
       "</style>\n",
       "<table border=\"1\" class=\"dataframe\">\n",
       "  <thead>\n",
       "    <tr style=\"text-align: right;\">\n",
       "      <th></th>\n",
       "      <th>param</th>\n",
       "      <th>set_size</th>\n",
       "      <th>pred_set_size</th>\n",
       "    </tr>\n",
       "  </thead>\n",
       "  <tbody>\n",
       "    <tr>\n",
       "      <th>0</th>\n",
       "      <td>4</td>\n",
       "      <td>500</td>\n",
       "      <td>160</td>\n",
       "    </tr>\n",
       "    <tr>\n",
       "      <th>1</th>\n",
       "      <td>4</td>\n",
       "      <td>5000</td>\n",
       "      <td>191</td>\n",
       "    </tr>\n",
       "    <tr>\n",
       "      <th>2</th>\n",
       "      <td>4</td>\n",
       "      <td>5000000</td>\n",
       "      <td>165</td>\n",
       "    </tr>\n",
       "    <tr>\n",
       "      <th>3</th>\n",
       "      <td>6</td>\n",
       "      <td>500</td>\n",
       "      <td>2743</td>\n",
       "    </tr>\n",
       "    <tr>\n",
       "      <th>4</th>\n",
       "      <td>6</td>\n",
       "      <td>5000</td>\n",
       "      <td>2051</td>\n",
       "    </tr>\n",
       "    <tr>\n",
       "      <th>5</th>\n",
       "      <td>6</td>\n",
       "      <td>5000000</td>\n",
       "      <td>2009</td>\n",
       "    </tr>\n",
       "    <tr>\n",
       "      <th>6</th>\n",
       "      <td>8</td>\n",
       "      <td>500</td>\n",
       "      <td>1310</td>\n",
       "    </tr>\n",
       "    <tr>\n",
       "      <th>7</th>\n",
       "      <td>8</td>\n",
       "      <td>5000</td>\n",
       "      <td>24087</td>\n",
       "    </tr>\n",
       "    <tr>\n",
       "      <th>8</th>\n",
       "      <td>8</td>\n",
       "      <td>5000000</td>\n",
       "      <td>26602</td>\n",
       "    </tr>\n",
       "    <tr>\n",
       "      <th>9</th>\n",
       "      <td>16</td>\n",
       "      <td>500</td>\n",
       "      <td>216</td>\n",
       "    </tr>\n",
       "    <tr>\n",
       "      <th>10</th>\n",
       "      <td>16</td>\n",
       "      <td>5000</td>\n",
       "      <td>2175</td>\n",
       "    </tr>\n",
       "    <tr>\n",
       "      <th>11</th>\n",
       "      <td>16</td>\n",
       "      <td>5000000</td>\n",
       "      <td>543366950</td>\n",
       "    </tr>\n",
       "  </tbody>\n",
       "</table>\n",
       "</div>"
      ],
      "text/plain": [
       "    param   set_size  pred_set_size \n",
       "0        4       500             160\n",
       "1        4      5000             191\n",
       "2        4   5000000             165\n",
       "3        6       500            2743\n",
       "4        6      5000            2051\n",
       "5        6   5000000            2009\n",
       "6        8       500            1310\n",
       "7        8      5000           24087\n",
       "8        8   5000000           26602\n",
       "9       16       500             216\n",
       "10      16      5000            2175\n",
       "11      16   5000000       543366950"
      ]
     },
     "execution_count": 20,
     "metadata": {},
     "output_type": "execute_result"
    }
   ],
   "source": [
    "table_res_4 = pd.DataFrame(matrix_res_hll, \n",
    "                         columns=['param ', 'set_size', 'pred_set_size '])\n",
    "table_res_4.to_csv('result_task_4.csv', index=False)\n",
    "table_res_4"
   ]
  },
  {
   "cell_type": "markdown",
   "metadata": {},
   "source": [
    "**Вывод**:\n",
    "\n",
    "При увеличение параметра b - увеличиваем число регистров и тем, самым уменьшается ошибка"
   ]
  },
  {
   "cell_type": "markdown",
   "metadata": {},
   "source": [
    "# Задание 5"
   ]
  },
  {
   "cell_type": "code",
   "execution_count": 21,
   "metadata": {},
   "outputs": [],
   "source": [
    "# Добавлена поддержка генерации с определенным ключем\n",
    "from task5 import gen_grouped_seq\n",
    "from task5 import read_csv_keys, count_keys"
   ]
  },
  {
   "cell_type": "markdown",
   "metadata": {},
   "source": [
    "Сгенерируем 2 файла с повторяющимися ключами (уменьшим кол-во строк с 10 миллиардов до 10 миллионов для экономии ресурсов)"
   ]
  },
  {
   "cell_type": "code",
   "execution_count": 23,
   "metadata": {},
   "outputs": [],
   "source": [
    "target_table_row_num = 10**6"
   ]
  },
  {
   "cell_type": "code",
   "execution_count": 18,
   "metadata": {},
   "outputs": [
    {
     "name": "stdout",
     "output_type": "stream",
     "text": [
      "repeated_patterns in \"task5_1.csv\": [('0:d364ecb3-97f2-44b9-835e-de6eda176e8b', 55000), ('1:692395d7-2a5a-41bf-b901-0203c00c3377', 60000), ('2:6a0bb504-ed5e-421a-8e5f-0017b41d6d3b', 65000), ('3:ea4e597b-4df7-4e54-9f3e-eeb66c0d6340', 70000), ('4:e3671e67-db99-4208-b475-1e7dd30ee815', 75000), ('5:279a51eb-8464-4b33-a37b-244eb0fff013', 80000)]\n",
      "repeated_patterns in \"task5_2.csv\": [('0:d364ecb3-97f2-44b9-835e-de6eda176e8b', 80000), ('1:692395d7-2a5a-41bf-b901-0203c00c3377', 75000), ('2:6a0bb504-ed5e-421a-8e5f-0017b41d6d3b', 70000), ('3:ea4e597b-4df7-4e54-9f3e-eeb66c0d6340', 65000), ('4:e3671e67-db99-4208-b475-1e7dd30ee815', 60000), ('5:279a51eb-8464-4b33-a37b-244eb0fff013', 55000)]\n"
     ]
    },
    {
     "name": "stderr",
     "output_type": "stream",
     "text": [
      "100%|██████████| 1000000/1000000 [00:03<00:00, 288976.36it/s]\n",
      "100%|██████████| 1000000/1000000 [00:03<00:00, 260407.18it/s]\n"
     ]
    }
   ],
   "source": [
    "repeated_nums = [55000, 60000, 65000, 70000, 75000, 80000]\n",
    "repeated_keys = [f\"{key}:{uuid.uuid4()}\" for key in range(len(repeated_nums))]\n",
    "repeated_patterns_1 = [(key, num) for key, num in zip(repeated_keys, repeated_nums)]\n",
    "repeated_patterns_2 = [(key, num) for key, num in zip(repeated_keys, reversed(repeated_nums))]\n",
    "\n",
    "print('repeated_patterns in \"task5_1.csv\":', repeated_patterns_1)\n",
    "print('repeated_patterns in \"task5_2.csv\":', repeated_patterns_2)\n",
    "\n",
    "gen_grouped_seq('task5_1.csv', [*repeated_patterns_1, (target_table_row_num - sum(repeated_nums), 1)])\n",
    "gen_grouped_seq('task5_2.csv', [*repeated_patterns_2, (target_table_row_num - sum(repeated_nums), 1)])"
   ]
  },
  {
   "cell_type": "markdown",
   "metadata": {},
   "source": [
    "Реализуем задачу по поиску совпадающих ключекй"
   ]
  },
  {
   "cell_type": "code",
   "execution_count": 24,
   "metadata": {},
   "outputs": [
    {
     "data": {
      "application/vnd.jupyter.widget-view+json": {
       "model_id": "6bd8244ba9f4497c8d3202881cb6d43a",
       "version_major": 2,
       "version_minor": 0
      },
      "text/plain": [
       "Collect 1 file:   0%|          | 0/1000000 [00:00<?, ?it/s]"
      ]
     },
     "metadata": {},
     "output_type": "display_data"
    },
    {
     "data": {
      "application/vnd.jupyter.widget-view+json": {
       "model_id": "82ee26e1ec874d33adfdf29279e04ecd",
       "version_major": 2,
       "version_minor": 0
      },
      "text/plain": [
       "Collect 2 file:   0%|          | 0/1000000 [00:00<?, ?it/s]"
      ]
     },
     "metadata": {},
     "output_type": "display_data"
    },
    {
     "name": "stdout",
     "output_type": "stream",
     "text": [
      "Add new key: 1:692395d7-2a5a-41bf-b901-0203c00c3377\n",
      "Add new key: 2:6a0bb504-ed5e-421a-8e5f-0017b41d6d3b\n",
      "Add new key: 3:ea4e597b-4df7-4e54-9f3e-eeb66c0d6340\n",
      "Add new key: 4:e3671e67-db99-4208-b475-1e7dd30ee815\n",
      "Repeated > 60000 keys: {'3:ea4e597b-4df7-4e54-9f3e-eeb66c0d6340', '4:e3671e67-db99-4208-b475-1e7dd30ee815', '1:692395d7-2a5a-41bf-b901-0203c00c3377', '2:6a0bb504-ed5e-421a-8e5f-0017b41d6d3b'}\n"
     ]
    }
   ],
   "source": [
    "filter_size = target_table_row_num // 10\n",
    "counter_num = count_thres = 60000\n",
    "hash_num = 5  # т.к. оптимальное кол-во 1200, возьмем меньше для экономии ресурсов\n",
    "\n",
    "# Создадим ConutersBloomFilter для первого файла\n",
    "file_1_counter_bf = ConutersBloomFilter(filter_size=filter_size, hash_num=hash_num, counter_num=counter_num, count_thres=count_thres)\n",
    "# Создадим ConutersBloomFilter для второго файла\n",
    "# Кол-во добавленных уникальных ключей будет меньше, чем для первого файла, поэтому filter_size должно хватать для записи всех ключей без ложных срабатываний\n",
    "file_2_counter_bf = ConutersBloomFilter(filter_size=filter_size, hash_num=hash_num, counter_num=counter_num, count_thres=count_thres)\n",
    "\n",
    "# Посчитаем кол-во ключей в первом файле с помощью ConutersBloomFilter\n",
    "first_key_iter = tqdm(\n",
    "    read_csv_keys('task5_1.csv'),\n",
    "    desc='Collect 1 file',\n",
    "    total=target_table_row_num\n",
    ")\n",
    "count_keys(first_key_iter, counter_bf=file_1_counter_bf)\n",
    "\n",
    "# Пройдёмся по второму файлу, зафиксируем ключи, которые встречаются нужное количество раз и запомним их\n",
    "second_key_iter = tqdm(\n",
    "    read_csv_keys('task5_2.csv'), \n",
    "    desc='Collect 2 file',\n",
    "    total=target_table_row_num\n",
    ")\n",
    "second_thres_keys = count_keys(second_key_iter, counter_bf=file_2_counter_bf, sup_counter_bf=file_1_counter_bf, return_keys=True)\n",
    "\n",
    "print(f'Repeated > {count_thres} keys:', second_thres_keys)"
   ]
  },
  {
   "cell_type": "markdown",
   "metadata": {},
   "source": [
    "Все ключи, которые встречались в обоих файлах > 60 000 раз вывелись. Уникальные ключи остались не тронуты."
   ]
  },
  {
   "cell_type": "markdown",
   "metadata": {},
   "source": [
    "# Задание 6"
   ]
  },
  {
   "cell_type": "code",
   "execution_count": 25,
   "metadata": {},
   "outputs": [],
   "source": [
    "from collections import defaultdict\n",
    "\n",
    "from task6 import count_join_size"
   ]
  },
  {
   "cell_type": "markdown",
   "metadata": {},
   "source": [
    "Сгенерируем файлы для тестирования"
   ]
  },
  {
   "cell_type": "code",
   "execution_count": 26,
   "metadata": {},
   "outputs": [],
   "source": [
    "target_table_row_num = 10**6"
   ]
  },
  {
   "cell_type": "code",
   "execution_count": 99,
   "metadata": {},
   "outputs": [
    {
     "name": "stdout",
     "output_type": "stream",
     "text": [
      "Num JOIN rows for non-accurate test 117720\n"
     ]
    },
    {
     "name": "stderr",
     "output_type": "stream",
     "text": [
      "Process 1 and 2 file:   0%|          | 0/1000000 [47:08<?, ?it/s]\n",
      "Process 1 and 2 file:   0%|          | 0/1000000 [45:12<?, ?it/s]\n",
      "100%|██████████| 1000000/1000000 [00:06<00:00, 157045.22it/s]\n",
      "100%|██████████| 1000000/1000000 [00:05<00:00, 175271.48it/s]\n"
     ]
    }
   ],
   "source": [
    "# Создадим повторяющиеся K раз N одинаковых ключей ([K] * N)\n",
    "repeated_nums = [12] * 10 + [11] * 20 + [10] * 30 + [8] * 40 + [5] * 80 + [4] * 100 + [3] * 300 + [2] * 500 + [1] * 10**5\n",
    "print('Num JOIN rows for non-accurate test', sum(num**2 for num in repeated_nums))\n",
    "# Сгенерируем повторяющиеся ключи\n",
    "repeated_keys = [f\"{key}:{uuid.uuid4()}\" for key in range(len(repeated_nums))]\n",
    "# Сформируем паттерны\n",
    "repeated_patterns_1 = [(key, num) for key, num in zip(repeated_keys, repeated_nums)]\n",
    "repeated_patterns_2 = repeated_patterns_1\n",
    "\n",
    "gen_grouped_seq('task6_1_non-accurate.csv', [*repeated_patterns_1, (target_table_row_num - sum(repeated_nums), 1)])\n",
    "gen_grouped_seq('task6_2_non-accurate.csv', [*repeated_patterns_2, (target_table_row_num - sum(repeated_nums), 1)])"
   ]
  },
  {
   "cell_type": "markdown",
   "metadata": {},
   "source": [
    "Итого клоичество строк в JOIN таблице должно быть равно 117 720 (если ключ повторяется в 1 таблице N раз, а в 2 таблице K раз, то он продит N*K строк)"
   ]
  },
  {
   "cell_type": "markdown",
   "metadata": {},
   "source": [
    "Проверим работу точного тестирования"
   ]
  },
  {
   "cell_type": "code",
   "execution_count": 28,
   "metadata": {},
   "outputs": [
    {
     "name": "stdout",
     "output_type": "stream",
     "text": [
      "Use accurate algorythm\n",
      "Размер JOIN 117720\n"
     ]
    }
   ],
   "source": [
    "first_key_iter = read_csv_keys('task6_1_non-accurate.csv')\n",
    "second_key_iter = read_csv_keys('task6_2_non-accurate.csv') \n",
    "accurate_join_size = count_join_size(\n",
    "    first_key_iter, \n",
    "    second_key_iter,\n",
    "    saved_1_table_keys=None,\n",
    "    unique_key_thres=target_table_row_num,\n",
    "    max_unique_key_size=target_table_row_num,\n",
    "    )\n",
    "print('Размер JOIN', accurate_join_size)"
   ]
  },
  {
   "cell_type": "markdown",
   "metadata": {},
   "source": [
    "Проверим работу приблезительного тестирования"
   ]
  },
  {
   "cell_type": "code",
   "execution_count": 29,
   "metadata": {},
   "outputs": [
    {
     "name": "stdout",
     "output_type": "stream",
     "text": [
      "Use non-accurate algorythm\n",
      "Размер JOIN 130540\n"
     ]
    }
   ],
   "source": [
    "first_key_iter = read_csv_keys('task6_1_non-accurate.csv')\n",
    "second_key_iter = read_csv_keys('task6_2_non-accurate.csv')\n",
    "saved_1_table_keys = read_csv_keys('task6_1_non-accurate.csv')\n",
    "non_accurate_join_size = count_join_size(\n",
    "    first_key_iter, \n",
    "    second_key_iter,\n",
    "    saved_1_table_keys=saved_1_table_keys,\n",
    "    unique_key_thres=10**3,\n",
    "    max_unique_key_size=target_table_row_num,\n",
    "    )\n",
    "print('Размер JOIN', non_accurate_join_size)"
   ]
  },
  {
   "cell_type": "markdown",
   "metadata": {},
   "source": [
    "\n",
    "**Вывод**:\n",
    "\n",
    "Тестирование точного ответа отработало корректно, показав нужный результат\n",
    "\n",
    "Тестирование приближенного ответа выдало ошибку около 11%"
   ]
  },
  {
   "cell_type": "markdown",
   "metadata": {},
   "source": []
  }
 ],
 "metadata": {
  "kernelspec": {
   "display_name": "study",
   "language": "python",
   "name": "python3"
  },
  "language_info": {
   "codemirror_mode": {
    "name": "ipython",
    "version": 3
   },
   "file_extension": ".py",
   "mimetype": "text/x-python",
   "name": "python",
   "nbconvert_exporter": "python",
   "pygments_lexer": "ipython3",
   "version": "3.11.9"
  }
 },
 "nbformat": 4,
 "nbformat_minor": 2
}
